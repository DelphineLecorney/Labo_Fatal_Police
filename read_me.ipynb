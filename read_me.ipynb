{
 "cells": [
  {
   "cell_type": "markdown",
   "metadata": {},
   "source": [
    "<br>\n",
    "<center><img src=\"Images\\1000_F_113822290_3NXf97pp8zJdCPNUau434WW7KeCKMpeG.jpg\" alt=\"Describe image here\" width=\"400\" height=\"250\">\n",
    "<h4><p style=\"color:#FFFFFF\";>**** 👮‍ US POLICE SHOOTING 👮‍ ****</p></h4></center>"
   ]
  },
  {
   "cell_type": "markdown",
   "metadata": {},
   "source": [
    "<center><h1 style=\"color:#139C77\";>Theme</h1>\n",
    "The U.S. Department of Justice is asking you to help them understand the problems<br>\n",
    "they are currently experiencing with law enforcement agencies in the country.</center>\n"
   ]
  },
  {
   "cell_type": "markdown",
   "metadata": {},
   "source": [
    "<center><h1 style=\"color:#139C77\";>Context</h1>\n",
    "Following the recent events, the American police are accused of discriminating<br>\n",
    "during their discrimination during its various interventions.<br>\n",
    "Indeed, the trend of fatal shootings by police in the United States seems to be<br>\n",
    "increase, with an average of 1,000 fatal shootings by the police.<br>\n",
    "Moreover, this rate appears to be much higher for Black Americans than for any other ethnicity.<br>\n",
    "The FBI has announced plans to review the way it tracks confrontations\n",
    "with police.</center>"
   ]
  },
  {
   "cell_type": "markdown",
   "metadata": {},
   "source": [
    "<center><h1 style=\"color:#139C77\";>Objective</h1></center>\n",
    "<p style=\"color:#D06AB9\">Implementation of a data analysis solution:</p><br>\n",
    "\n",
    "<ul>\n",
    "    <ol>\n",
    "        <li>Construction of a Data Warehouse according to a multi-dimensional model.</li>\n",
    "        <li>Implementation of an ETL that will allow the addition of new data in the future\n",
    "data as it is added.</li>\n",
    "        <li>Exploit the new model and its data to develop reports to answer the questions\n",
    "to answer the questions asked in the next slide.<br>\n",
    "These reports can be built using tools such as Power BI, Qlik, Sense, Tableau, or Python.</li>\n",
    "        <li>Creation of an AI to predict potential new cases.</li>\n",
    "    </ol>\n",
    "</ul>"
   ]
  },
  {
   "cell_type": "markdown",
   "metadata": {},
   "source": [
    "<center><h1 style=\"color:#139C77\";>Requirements</h1></center>\n",
    "<ul>\n",
    "    <ol>\n",
    "        <li>To help understand the global situation of fatal police shootings in the\n",
    "police shootings in the United States.</li>\n",
    "        <li>To help understand if there is discrimination of a certain ethnicity among\n",
    "others.</li>\n",
    "        <li>To help understand if there are differences in different regions of the\n",
    "United States.</li>\n",
    "        <li>To help understand if there is a change over time.</li>\n",
    "        <li>To help understand if there are police blunders in the United States.</li>\n",
    "    </ol>\n",
    "</ul>"
   ]
  },
  {
   "cell_type": "markdown",
   "metadata": {},
   "source": [
    "*****************************************************************************************************"
   ]
  },
  {
   "cell_type": "markdown",
   "metadata": {},
   "source": [
    "-------------Ce que je fais-------------\n"
   ]
  },
  {
   "cell_type": "markdown",
   "metadata": {},
   "source": [
    "First, I import the modules that I think are necessary for the analysis of the files, it's always possible to import others afterwards.\n",
    "***********************************\n",
    "regarder les fichiers avec sweetviz\n",
    "***********************************\n",
    "faire la base de données\n",
    "***********************************\n",
    "nettoyer les données\n",
    "***********************************\n",
    "faire un datawarehouse\n",
    "***********************************\n",
    "analyser les données\n"
   ]
  },
  {
   "cell_type": "markdown",
   "metadata": {},
   "source": [
    "<center><h1 style=\"color:#139C77\";>Data sources</h1></center>\n",
    "\n",
    "<p style=\"color:#D06AB9\";>Provision of a staging database already containing other data</p>\n",
    "\n",
    "<ul style=\"list-style-type: square\">\n",
    "  <li>fatal-police-shootings-data</li>\n",
    "    <ul style= \"list-style-type: disc\">\n",
    "      <li>A list of all fatal police shootings in the United States between\n",
    "2015 to 2022 including date, name, gender of the victim, ethnicity, age, city\n",
    "ethnicity, age, city, whether the victim was armed, whether the victim tried to\n",
    "flee...</li>\n",
    "    </ul>\n",
    "  <li>USCities</li>          \n",
    "    <ul style=\"list-style-type: disc\">            \n",
    "  \n",
    "  </ul>\n",
    "    <ul style= \"list-style-type: disc\">\n",
    "      <li>Information about cities in the United States.</li>\n",
    "    </ul>\n",
    "\n",
    "  <li>Ethnicity</li>\n",
    "    <ul style= \"list-style-type: disc\">\n",
    "      <li>Information about the ethnic distribution in the United States.</li>\n",
    "    </ul>\n",
    "</ul>\n",
    "\n",
    "https://en.wikipedia.org/wiki/Lists_of_killings_by_law_enforcement_officers_in_the_United_States\n",
    "\n",
    "https://crime-data-explorer.fr.cloud.gov/pages/explorer/crime/crime-trend\n",
    "\n",
    "https://www.manhattan-institute.org/verbruggen-fatal-police-shootings\n",
    "\n",
    "https://crime-data-explorer.fr.cloud.gov/pages/explorer/crime/crime-trend\n",
    "\n",
    "https://www.kaggle.com/datasets/mrmorj/data-police-shootings?select=fatal-police-shootings-data.csv\n",
    "\n",
    "https://www.kaggle.com/datasets/mrmorj/data-police-shootings\n",
    "\n",
    "https://www.washingtonpost.com/graphics/investigations/police-shootings-database/\n",
    "\n",
    "https://nibrs.fbi.gov/2020/\n",
    "\n",
    "https://quickref.me/"
   ]
  },
  {
   "cell_type": "markdown",
   "metadata": {},
   "source": [
    "Aide au cleaning de DB:\n",
    "\n",
    "https://moncoachdata.com/blog/nettoyage-de-donnees-python/"
   ]
  },
  {
   "cell_type": "markdown",
   "metadata": {},
   "source": [
    "Divers sites pour le design de ce notebook:\n",
    "\n",
    "https://quickref.me/\n"
   ]
  },
  {
   "cell_type": "markdown",
   "metadata": {},
   "source": [
    "Api Key<br>\n",
    "vaQoeUelQREMMmLuagyImAkKjDulbvduqrOyrXQj<br>\n",
    "GitHub\n",
    "Del-Lec\n",
    "P9a2MzpX9LxedEK"
   ]
  }
 ],
 "metadata": {
  "kernelspec": {
   "display_name": "Python 3.9.7 ('base')",
   "language": "python",
   "name": "python3"
  },
  "language_info": {
   "codemirror_mode": {
    "name": "ipython",
    "version": 3
   },
   "file_extension": ".py",
   "mimetype": "text/x-python",
   "name": "python",
   "nbconvert_exporter": "python",
   "pygments_lexer": "ipython3",
   "version": "3.9.7"
  },
  "orig_nbformat": 4,
  "vscode": {
   "interpreter": {
    "hash": "35eb59dc1175a6e36ac6f85529fd57a1bdfb070562af1bfce2d8b2d0113a1f3d"
   }
  }
 },
 "nbformat": 4,
 "nbformat_minor": 2
}
