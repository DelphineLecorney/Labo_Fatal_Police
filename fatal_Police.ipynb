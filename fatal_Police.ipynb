{
 "cells": [
  {
   "cell_type": "markdown",
   "metadata": {},
   "source": [
    "<br>\n",
    "<center><img src= \"Images\\Capture.PNG\" width=\"700\" height=\"350\"></center><br><br>\n",
    "\n",
    "<center><h4><p style=\"color:#FFFFFF\";>**** 👮 US POLICE SHOOTING 👮‍ ****\n",
    "</p><h4></center>"
   ]
  },
  {
   "cell_type": "markdown",
   "metadata": {},
   "source": [
    "<center><h3><p style=\"color:#139C77\";>**** Importation des modules nécessaires ****</p></h3></center>"
   ]
  },
  {
   "cell_type": "code",
   "execution_count": null,
   "metadata": {},
   "outputs": [],
   "source": [
    "import matplotlib.pyplot as plt\n",
    "import pandas as pd\n",
    "import numpy as np\n",
    "\n",
    "from secret import cnxn"
   ]
  },
  {
   "cell_type": "markdown",
   "metadata": {},
   "source": [
    "<center><h3><p style=\"color:#D06AB9\">**** Lecture et preview des fichiers bruts ****</p></h3></center>"
   ]
  },
  {
   "cell_type": "markdown",
   "metadata": {},
   "source": [
    "<p style=\"color:#139C77\";><u>Fichier</u> : fatal-police-shootings-data.csv</p>"
   ]
  },
  {
   "cell_type": "markdown",
   "metadata": {},
   "source": [
    "<p style=\"color:#139C77\";>Study Data</p>"
   ]
  },
  {
   "cell_type": "markdown",
   "metadata": {},
   "source": [
    "<p style=\"color:#D06AB9\";>We can already observe that there're 4 types of data</p>\n",
    "\n"
   ]
  },
  {
   "cell_type": "markdown",
   "metadata": {},
   "source": [
    "<p style=\"color:#139C77\";><u>Fichier</u> : uscities.csv</p>"
   ]
  },
  {
   "cell_type": "markdown",
   "metadata": {},
   "source": [
    "<p style=\"color:#D06AB9\";>We can already observe that there're 4 types of data</p>"
   ]
  },
  {
   "cell_type": "markdown",
   "metadata": {},
   "source": [
    "<p style=\"color:#139C77\";><u>Fichier</u> : Ethnicity Data USA.xlsx</p>"
   ]
  },
  {
   "cell_type": "markdown",
   "metadata": {},
   "source": [
    "<p style=\"color:#D06AB9\">We can already observe that there're 2 types of data</p>"
   ]
  },
  {
   "cell_type": "markdown",
   "metadata": {},
   "source": [
    "<p style=\"color:#139C77\";>Passage on SQL to realize the database and on SSIS to build the 3 tables.</p>\n"
   ]
  },
  {
   "cell_type": "markdown",
   "metadata": {},
   "source": [
    "<center><h3><p style=\"color:#139C77\";>**** Connexion SQL ****</p></h3></center>"
   ]
  },
  {
   "cell_type": "markdown",
   "metadata": {},
   "source": [
    "<center><h3><p style=\"color:#139C77\";> Fichier \"Fatal_Police_Shooting\"</p></h3></center>"
   ]
  },
  {
   "cell_type": "markdown",
   "metadata": {},
   "source": [
    "<p style=\"color:#D06AB9\">Let's display the first lines to get an overview </p>"
   ]
  },
  {
   "cell_type": "code",
   "execution_count": null,
   "metadata": {},
   "outputs": [],
   "source": [
    "df_fatal = pd.read_sql(\"SELECT * FROM [Fatal_Police_Shooting]\", cnxn)"
   ]
  },
  {
   "cell_type": "markdown",
   "metadata": {},
   "source": [
    "<p style=\"color:#D06AB9\"> Realize a .shape() of the data frame </p>"
   ]
  },
  {
   "cell_type": "code",
   "execution_count": null,
   "metadata": {},
   "outputs": [],
   "source": [
    "df_fatal.shape"
   ]
  },
  {
   "cell_type": "markdown",
   "metadata": {},
   "source": [
    "<p style=\"color:#D06AB9\"> Realize a .info() to get a concise summary of the data frame </p>"
   ]
  },
  {
   "cell_type": "code",
   "execution_count": null,
   "metadata": {},
   "outputs": [],
   "source": [
    "df_fatal.info()"
   ]
  },
  {
   "cell_type": "markdown",
   "metadata": {},
   "source": [
    "<p style=\"color:#D06AB9\">Let's display the first lines to get an overview </p>"
   ]
  },
  {
   "cell_type": "code",
   "execution_count": null,
   "metadata": {},
   "outputs": [],
   "source": [
    "df_fatal.head()"
   ]
  },
  {
   "cell_type": "code",
   "execution_count": null,
   "metadata": {},
   "outputs": [],
   "source": [
    "df_fatal.columns"
   ]
  },
  {
   "cell_type": "markdown",
   "metadata": {},
   "source": [
    "<p style=\"color:#D06AB9\">I decide to delete the column \"is_geocoding_exact\" and \"body_camera\". </p>"
   ]
  },
  {
   "cell_type": "code",
   "execution_count": null,
   "metadata": {},
   "outputs": [],
   "source": [
    "df_fatal = df_fatal.drop(columns=[\"is_geocoding_exact\", \"body_camera\"])\n"
   ]
  },
  {
   "cell_type": "markdown",
   "metadata": {},
   "source": [
    "Vértifions qu'elles soient bien supprimées"
   ]
  },
  {
   "cell_type": "code",
   "execution_count": null,
   "metadata": {},
   "outputs": [],
   "source": [
    "df_fatal.columns"
   ]
  },
  {
   "cell_type": "markdown",
   "metadata": {},
   "source": [
    "Vérifions la colonne date"
   ]
  },
  {
   "cell_type": "code",
   "execution_count": null,
   "metadata": {},
   "outputs": [],
   "source": [
    "df_fatal['date'].unique()\n"
   ]
  },
  {
   "cell_type": "code",
   "execution_count": null,
   "metadata": {},
   "outputs": [],
   "source": [
    "df_fatal['date'].isnull().sum()"
   ]
  },
  {
   "cell_type": "markdown",
   "metadata": {},
   "source": [
    "Puis vérifions la colonne age"
   ]
  },
  {
   "cell_type": "code",
   "execution_count": null,
   "metadata": {},
   "outputs": [],
   "source": [
    "df_fatal['age'].unique()"
   ]
  },
  {
   "cell_type": "markdown",
   "metadata": {},
   "source": [
    "On se rend compte qu'il n'y a pas que des numériques, vérifions les nulls."
   ]
  },
  {
   "cell_type": "code",
   "execution_count": null,
   "metadata": {},
   "outputs": [],
   "source": [
    "df_fatal['age'].isnull().sum()"
   ]
  },
  {
   "cell_type": "markdown",
   "metadata": {},
   "source": [
    "Je remplace les nulls par des 0 et je vérifie"
   ]
  },
  {
   "cell_type": "code",
   "execution_count": null,
   "metadata": {},
   "outputs": [],
   "source": [
    "df_fatal['age'] = df_fatal['age'].fillna(0)\n",
    "df_fatal['age'].isnull().sum()"
   ]
  },
  {
   "cell_type": "markdown",
   "metadata": {},
   "source": [
    "Je vérifie longitude"
   ]
  },
  {
   "cell_type": "code",
   "execution_count": null,
   "metadata": {},
   "outputs": [],
   "source": [
    "df_fatal['longitude'].unique()"
   ]
  },
  {
   "cell_type": "code",
   "execution_count": null,
   "metadata": {},
   "outputs": [],
   "source": [
    "df_fatal['longitude'].isnull().sum()"
   ]
  },
  {
   "cell_type": "code",
   "execution_count": null,
   "metadata": {},
   "outputs": [],
   "source": [
    "df_fatal['longitude'] = df_fatal['longitude'].fillna(0)\n",
    "df_fatal['longitude'].isnull().sum()"
   ]
  },
  {
   "cell_type": "markdown",
   "metadata": {},
   "source": [
    "Je vérifie latitude"
   ]
  },
  {
   "cell_type": "code",
   "execution_count": null,
   "metadata": {},
   "outputs": [],
   "source": [
    "df_fatal['latitude'].unique()"
   ]
  },
  {
   "cell_type": "code",
   "execution_count": null,
   "metadata": {},
   "outputs": [],
   "source": [
    "df_fatal['latitude'].isnull().sum()"
   ]
  },
  {
   "cell_type": "code",
   "execution_count": null,
   "metadata": {},
   "outputs": [],
   "source": [
    "df_fatal['latitude'] = df_fatal['latitude'].fillna(0)\n",
    "df_fatal['latitude'].isnull().sum()"
   ]
  },
  {
   "cell_type": "markdown",
   "metadata": {},
   "source": [
    "<p style=\"color:#D06AB9\"> Replacement of nulls by \"indeterminate\" for the other columns.</p>"
   ]
  },
  {
   "cell_type": "markdown",
   "metadata": {},
   "source": [
    "Colonne name"
   ]
  },
  {
   "cell_type": "code",
   "execution_count": null,
   "metadata": {},
   "outputs": [],
   "source": [
    "df_fatal['name'].isnull().sum()"
   ]
  },
  {
   "cell_type": "code",
   "execution_count": null,
   "metadata": {},
   "outputs": [],
   "source": [
    "df_fatal['name'] = df_fatal['name'].replace(np.nan, \"undetermined\")\n",
    "df_fatal['name'].isnull().sum()"
   ]
  },
  {
   "cell_type": "markdown",
   "metadata": {},
   "source": [
    "Colonne manner of death"
   ]
  },
  {
   "cell_type": "code",
   "execution_count": null,
   "metadata": {},
   "outputs": [],
   "source": [
    "df_fatal['manner_of_death'].isnull().sum()"
   ]
  },
  {
   "cell_type": "markdown",
   "metadata": {},
   "source": [
    "Colonne armed"
   ]
  },
  {
   "cell_type": "code",
   "execution_count": null,
   "metadata": {},
   "outputs": [],
   "source": [
    "df_fatal['armed'].isnull().sum()"
   ]
  },
  {
   "cell_type": "code",
   "execution_count": null,
   "metadata": {},
   "outputs": [],
   "source": [
    "df_fatal['armed'] = df_fatal['armed'].replace(np.nan, \"undetermined\")\n",
    "df_fatal['armed'].isnull().sum()"
   ]
  },
  {
   "cell_type": "markdown",
   "metadata": {},
   "source": [
    "Colonne gender"
   ]
  },
  {
   "cell_type": "code",
   "execution_count": null,
   "metadata": {},
   "outputs": [],
   "source": [
    "df_fatal['gender'].unique()"
   ]
  },
  {
   "cell_type": "code",
   "execution_count": null,
   "metadata": {},
   "outputs": [],
   "source": [
    "df_fatal['gender'].isnull().sum()"
   ]
  },
  {
   "cell_type": "code",
   "execution_count": null,
   "metadata": {},
   "outputs": [],
   "source": [
    "df_fatal['gender'] = df_fatal['gender'].replace(np.nan, \"undetermined\")\n",
    "df_fatal['gender'].isnull().sum()"
   ]
  },
  {
   "cell_type": "markdown",
   "metadata": {},
   "source": [
    "Colonne race"
   ]
  },
  {
   "cell_type": "code",
   "execution_count": null,
   "metadata": {},
   "outputs": [],
   "source": [
    "df_fatal['race'].unique()"
   ]
  },
  {
   "cell_type": "code",
   "execution_count": null,
   "metadata": {},
   "outputs": [],
   "source": [
    "df_fatal['race'].isnull().sum()"
   ]
  },
  {
   "cell_type": "code",
   "execution_count": null,
   "metadata": {},
   "outputs": [],
   "source": [
    "df_fatal['race'] = df_fatal['race'].replace('None', \"undetermined\")\n",
    "df_fatal['race'] = df_fatal['race'].replace('N', \"undetermined\")\n",
    "df_fatal['race'] = df_fatal['race'].replace('O', \"undetermined\")\n",
    "df_fatal['race'].isnull().sum()"
   ]
  },
  {
   "cell_type": "markdown",
   "metadata": {},
   "source": [
    "Colonne city"
   ]
  },
  {
   "cell_type": "code",
   "execution_count": null,
   "metadata": {},
   "outputs": [],
   "source": [
    "df_fatal['city'].isnull().sum()"
   ]
  },
  {
   "cell_type": "markdown",
   "metadata": {},
   "source": [
    "Colonne state"
   ]
  },
  {
   "cell_type": "code",
   "execution_count": null,
   "metadata": {},
   "outputs": [],
   "source": [
    "df_fatal['state'].isnull().sum()"
   ]
  },
  {
   "cell_type": "markdown",
   "metadata": {},
   "source": [
    "Colonne signs of menta illness"
   ]
  },
  {
   "cell_type": "code",
   "execution_count": null,
   "metadata": {},
   "outputs": [],
   "source": [
    "df_fatal['signs_of_mental_illness'].isnull().sum()"
   ]
  },
  {
   "cell_type": "markdown",
   "metadata": {},
   "source": [
    "Colonne threat level"
   ]
  },
  {
   "cell_type": "code",
   "execution_count": null,
   "metadata": {},
   "outputs": [],
   "source": [
    "df_fatal['threat_level'].isnull().sum()"
   ]
  },
  {
   "cell_type": "markdown",
   "metadata": {},
   "source": [
    "Colonne flee"
   ]
  },
  {
   "cell_type": "code",
   "execution_count": null,
   "metadata": {},
   "outputs": [],
   "source": [
    "df_fatal['flee'].isnull().sum()"
   ]
  },
  {
   "cell_type": "code",
   "execution_count": null,
   "metadata": {},
   "outputs": [],
   "source": [
    "df_fatal['flee'] = df_fatal['flee'].replace(np.nan, \"undetermined\")\n",
    "df_fatal['flee'].isnull().sum()"
   ]
  },
  {
   "cell_type": "markdown",
   "metadata": {},
   "source": [
    "<center><h3><p style=\"color:#139C77\";> Fichier \"us_cities\"</p></h3></center>"
   ]
  },
  {
   "cell_type": "code",
   "execution_count": null,
   "metadata": {},
   "outputs": [],
   "source": [
    "df_us_cities = pd.read_sql(\"SELECT * FROM [us_cities]\", cnxn)\n",
    "df_us_cities.head()"
   ]
  },
  {
   "cell_type": "code",
   "execution_count": null,
   "metadata": {},
   "outputs": [],
   "source": [
    "df_us_cities.info()"
   ]
  },
  {
   "cell_type": "code",
   "execution_count": null,
   "metadata": {},
   "outputs": [],
   "source": [
    "df_us_cities.isnull().sum().sum()"
   ]
  },
  {
   "cell_type": "code",
   "execution_count": null,
   "metadata": {},
   "outputs": [],
   "source": [
    "df_us_cities['zips'] = df_us_cities['zips'].fillna(0)\n",
    "df_us_cities.isnull().sum().sum()"
   ]
  },
  {
   "cell_type": "code",
   "execution_count": null,
   "metadata": {},
   "outputs": [],
   "source": [
    "df_us_cities = df_us_cities.drop(columns=[\"military\", \"timezone\", \"incorporated\", \"source\", \"ranking\", \"city_ascii\", \"state_id\", \"county_name_all\", \"county_fips_all\"])"
   ]
  },
  {
   "cell_type": "code",
   "execution_count": null,
   "metadata": {},
   "outputs": [],
   "source": [
    "df_us_cities.head()"
   ]
  },
  {
   "cell_type": "markdown",
   "metadata": {},
   "source": [
    "<center><h3><p style=\"color:#139C77\";> Fichier \"Etnicity\"</p></h3></center>"
   ]
  },
  {
   "cell_type": "code",
   "execution_count": 12,
   "metadata": {},
   "outputs": [
    {
     "data": {
      "text/html": [
       "<div>\n",
       "<style scoped>\n",
       "    .dataframe tbody tr th:only-of-type {\n",
       "        vertical-align: middle;\n",
       "    }\n",
       "\n",
       "    .dataframe tbody tr th {\n",
       "        vertical-align: top;\n",
       "    }\n",
       "\n",
       "    .dataframe thead th {\n",
       "        text-align: right;\n",
       "    }\n",
       "</style>\n",
       "<table border=\"1\" class=\"dataframe\">\n",
       "  <thead>\n",
       "    <tr style=\"text-align: right;\">\n",
       "      <th></th>\n",
       "      <th>State</th>\n",
       "      <th>Total population</th>\n",
       "      <th>White</th>\n",
       "      <th>Black</th>\n",
       "      <th>Hispanic</th>\n",
       "      <th>Asian</th>\n",
       "      <th>American Indian</th>\n",
       "      <th>id</th>\n",
       "    </tr>\n",
       "  </thead>\n",
       "  <tbody>\n",
       "    <tr>\n",
       "      <th>0</th>\n",
       "      <td>Alabama</td>\n",
       "      <td>4874747.0</td>\n",
       "      <td>3191450.0</td>\n",
       "      <td>1302295.0</td>\n",
       "      <td>201970.0</td>\n",
       "      <td>65494.0</td>\n",
       "      <td>22209.0</td>\n",
       "      <td>None</td>\n",
       "    </tr>\n",
       "    <tr>\n",
       "      <th>1</th>\n",
       "      <td>Alaska</td>\n",
       "      <td>739795.0</td>\n",
       "      <td>448081.0</td>\n",
       "      <td>21192.0</td>\n",
       "      <td>51712.0</td>\n",
       "      <td>48569.0</td>\n",
       "      <td>105146.0</td>\n",
       "      <td>None</td>\n",
       "    </tr>\n",
       "    <tr>\n",
       "      <th>2</th>\n",
       "      <td>Arizona</td>\n",
       "      <td>7016270.0</td>\n",
       "      <td>3836639.0</td>\n",
       "      <td>290379.0</td>\n",
       "      <td>2202173.0</td>\n",
       "      <td>225810.0</td>\n",
       "      <td>274496.0</td>\n",
       "      <td>None</td>\n",
       "    </tr>\n",
       "    <tr>\n",
       "      <th>3</th>\n",
       "      <td>Arkansas</td>\n",
       "      <td>3004279.0</td>\n",
       "      <td>2173307.0</td>\n",
       "      <td>455500.0</td>\n",
       "      <td>223764.0</td>\n",
       "      <td>46583.0</td>\n",
       "      <td>16901.0</td>\n",
       "      <td>None</td>\n",
       "    </tr>\n",
       "    <tr>\n",
       "      <th>4</th>\n",
       "      <td>California</td>\n",
       "      <td>39536653.0</td>\n",
       "      <td>14616636.0</td>\n",
       "      <td>2164239.0</td>\n",
       "      <td>15477306.0</td>\n",
       "      <td>5679986.0</td>\n",
       "      <td>147880.0</td>\n",
       "      <td>None</td>\n",
       "    </tr>\n",
       "  </tbody>\n",
       "</table>\n",
       "</div>"
      ],
      "text/plain": [
       "        State  Total population       White      Black    Hispanic      Asian  \\\n",
       "0     Alabama         4874747.0   3191450.0  1302295.0    201970.0    65494.0   \n",
       "1      Alaska          739795.0    448081.0    21192.0     51712.0    48569.0   \n",
       "2     Arizona         7016270.0   3836639.0   290379.0   2202173.0   225810.0   \n",
       "3    Arkansas         3004279.0   2173307.0   455500.0    223764.0    46583.0   \n",
       "4  California        39536653.0  14616636.0  2164239.0  15477306.0  5679986.0   \n",
       "\n",
       "   American Indian    id  \n",
       "0          22209.0  None  \n",
       "1         105146.0  None  \n",
       "2         274496.0  None  \n",
       "3          16901.0  None  \n",
       "4         147880.0  None  "
      ]
     },
     "execution_count": 12,
     "metadata": {},
     "output_type": "execute_result"
    }
   ],
   "source": [
    "df_Etnicity = pd.read_sql(\"SELECT * FROM [Etnicity]\", cnxn)\n",
    "df_Etnicity.head()"
   ]
  },
  {
   "cell_type": "code",
   "execution_count": 13,
   "metadata": {},
   "outputs": [
    {
     "name": "stdout",
     "output_type": "stream",
     "text": [
      "<class 'pandas.core.frame.DataFrame'>\n",
      "RangeIndex: 51 entries, 0 to 50\n",
      "Data columns (total 8 columns):\n",
      " #   Column            Non-Null Count  Dtype  \n",
      "---  ------            --------------  -----  \n",
      " 0   State             51 non-null     object \n",
      " 1   Total population  51 non-null     float64\n",
      " 2   White             51 non-null     float64\n",
      " 3   Black             51 non-null     float64\n",
      " 4   Hispanic          51 non-null     float64\n",
      " 5   Asian             51 non-null     float64\n",
      " 6   American Indian   51 non-null     float64\n",
      " 7   id                0 non-null      object \n",
      "dtypes: float64(6), object(2)\n",
      "memory usage: 3.3+ KB\n"
     ]
    }
   ],
   "source": [
    "df_Etnicity.info()"
   ]
  },
  {
   "cell_type": "code",
   "execution_count": 14,
   "metadata": {},
   "outputs": [
    {
     "data": {
      "text/plain": [
       "51"
      ]
     },
     "execution_count": 14,
     "metadata": {},
     "output_type": "execute_result"
    }
   ],
   "source": [
    "df_Etnicity.isnull().sum().sum()"
   ]
  },
  {
   "cell_type": "markdown",
   "metadata": {},
   "source": [
    "Lors de la construction des tables sur SQL pour transférer la base de données dans le data warehouse, j'auto-incrémenterais la colonne id"
   ]
  },
  {
   "cell_type": "code",
   "execution_count": null,
   "metadata": {},
   "outputs": [],
   "source": [
    "\n",
    "from secret import cndw\n",
    "\n",
    "df_fatal.to_sql(\"df_fatal\", cndw , schema=None, if_exists='replace', index=True, index_label= None, chunksize = None , dtype = None , method = None)\n",
    "df_us_cities.to_sql(\"df_us_cities\", cndw , schema=None, if_exists='replace', index=True, index_label= None, chunksize = None , dtype = None , method = None)\n",
    "df_Etnicity.to_sql(\"df_Etnicity\", cndw , schema=None, if_exists='replace', index=True, index_label= None, chunksize = None , dtype = None , method = None)"
   ]
  }
 ],
 "metadata": {
  "kernelspec": {
   "display_name": "Python 3.9.7 ('base')",
   "language": "python",
   "name": "python3"
  },
  "language_info": {
   "codemirror_mode": {
    "name": "ipython",
    "version": 3
   },
   "file_extension": ".py",
   "mimetype": "text/x-python",
   "name": "python",
   "nbconvert_exporter": "python",
   "pygments_lexer": "ipython3",
   "version": "3.9.7"
  },
  "orig_nbformat": 4,
  "vscode": {
   "interpreter": {
    "hash": "35eb59dc1175a6e36ac6f85529fd57a1bdfb070562af1bfce2d8b2d0113a1f3d"
   }
  }
 },
 "nbformat": 4,
 "nbformat_minor": 2
}
