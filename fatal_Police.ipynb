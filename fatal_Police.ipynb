{
 "cells": [
  {
   "cell_type": "markdown",
   "metadata": {},
   "source": [
    "<br>\n",
    "<center><img src= \"Images\\Capture.PNG\" width=\"700\" height=\"350\"></center><br><br>\n",
    "\n",
    "<center><h4><p style=\"color:#FFFFFF\";>**** 👮 US POLICE SHOOTING 👮‍ ****\n",
    "</p><h4></center>"
   ]
  },
  {
   "cell_type": "markdown",
   "metadata": {},
   "source": [
    "<center><h3><p style=\"color:#139C77\";>**** Importation des modules nécessaires ****</p></h3></center>"
   ]
  },
  {
   "cell_type": "code",
   "execution_count": 1,
   "metadata": {},
   "outputs": [],
   "source": [
    "import matplotlib.pyplot as plt\n",
    "import pandas as pd\n",
    "import sweetviz as sv\n",
    "import pyodbc\n",
    "import numpy as np\n",
    "\n",
    "from secret import database, server, username, password, cnxn"
   ]
  },
  {
   "cell_type": "markdown",
   "metadata": {},
   "source": [
    "<center><h3><p style=\"color:#D06AB9\">**** Lecture et preview des fichiers bruts ****</p></h3></center>"
   ]
  },
  {
   "cell_type": "markdown",
   "metadata": {},
   "source": [
    "<p style=\"color:#139C77\";><u>Fichier</u> : fatal-police-shootings-data.csv</p>"
   ]
  },
  {
   "cell_type": "code",
   "execution_count": 2,
   "metadata": {},
   "outputs": [
    {
     "name": "stderr",
     "output_type": "stream",
     "text": [
      "Done! Use 'show' commands to display/save.   |██████████| [100%]   00:00 -> (00:00 left)\n"
     ]
    },
    {
     "name": "stdout",
     "output_type": "stream",
     "text": [
      "Report SWEETVIZ_REPORT.html was generated! NOTEBOOK/COLAB USERS: the web browser MAY not pop up, regardless, the report IS saved in your notebook/colab files.\n"
     ]
    }
   ],
   "source": [
    "df_brut_fatal = pd.read_csv(\"fatal-police-shootings-data.csv\")\n",
    "analyze_df_brut_fatal = sv.analyze(df_brut_fatal)\n",
    "# df_brut_fatal-police-shootings-data.show_notebook()        # Pour visionner dans le notebook même\n",
    "analyze_df_brut_fatal.show_html()              # Pour visionner sur un navigateur"
   ]
  },
  {
   "cell_type": "markdown",
   "metadata": {},
   "source": [
    "<p style=\"color:#139C77\";>Study Data</p>"
   ]
  },
  {
   "cell_type": "code",
   "execution_count": 3,
   "metadata": {},
   "outputs": [
    {
     "name": "stdout",
     "output_type": "stream",
     "text": [
      "<class 'pandas.core.frame.DataFrame'>\n",
      "RangeIndex: 7504 entries, 0 to 7503\n",
      "Data columns (total 17 columns):\n",
      " #   Column                   Non-Null Count  Dtype  \n",
      "---  ------                   --------------  -----  \n",
      " 0   id                       7504 non-null   int64  \n",
      " 1   name                     7118 non-null   object \n",
      " 2   date                     7504 non-null   object \n",
      " 3   manner_of_death          7504 non-null   object \n",
      " 4   armed                    7295 non-null   object \n",
      " 5   age                      7057 non-null   float64\n",
      " 6   gender                   7485 non-null   object \n",
      " 7   race                     6122 non-null   object \n",
      " 8   city                     7504 non-null   object \n",
      " 9   state                    7504 non-null   object \n",
      " 10  signs_of_mental_illness  7504 non-null   bool   \n",
      " 11  threat_level             7504 non-null   object \n",
      " 12  flee                     6741 non-null   object \n",
      " 13  body_camera              7504 non-null   bool   \n",
      " 14  longitude                6792 non-null   float64\n",
      " 15  latitude                 6792 non-null   float64\n",
      " 16  is_geocoding_exact       7504 non-null   bool   \n",
      "dtypes: bool(3), float64(3), int64(1), object(10)\n",
      "memory usage: 842.9+ KB\n"
     ]
    }
   ],
   "source": [
    "df_brut_fatal.info()"
   ]
  },
  {
   "cell_type": "markdown",
   "metadata": {},
   "source": [
    "<p style=\"color:#D06AB9\";>We can already observe that there're 4 types of data</p>\n",
    "\n"
   ]
  },
  {
   "cell_type": "markdown",
   "metadata": {},
   "source": [
    "<p style=\"color:#139C77\";><u>Fichier</u> : uscities.csv</p>"
   ]
  },
  {
   "cell_type": "code",
   "execution_count": 4,
   "metadata": {},
   "outputs": [
    {
     "name": "stderr",
     "output_type": "stream",
     "text": [
      "Done! Use 'show' commands to display/save.   |██████████| [100%]   00:00 -> (00:00 left)\n"
     ]
    },
    {
     "name": "stdout",
     "output_type": "stream",
     "text": [
      "Report SWEETVIZ_REPORT.html was generated! NOTEBOOK/COLAB USERS: the web browser MAY not pop up, regardless, the report IS saved in your notebook/colab files.\n"
     ]
    }
   ],
   "source": [
    "df_brut_uscities = pd.read_csv(\"uscities.csv\")\n",
    "analyse_df_brut_uscities = sv.analyze(df_brut_uscities)\n",
    "# analyse_df_brut_2.show_notebook()     \n",
    "analyse_df_brut_uscities.show_html()            "
   ]
  },
  {
   "cell_type": "code",
   "execution_count": 5,
   "metadata": {},
   "outputs": [
    {
     "name": "stdout",
     "output_type": "stream",
     "text": [
      "<class 'pandas.core.frame.DataFrame'>\n",
      "RangeIndex: 28889 entries, 0 to 28888\n",
      "Data columns (total 19 columns):\n",
      " #   Column           Non-Null Count  Dtype  \n",
      "---  ------           --------------  -----  \n",
      " 0   city             28889 non-null  object \n",
      " 1   city_ascii       28889 non-null  object \n",
      " 2   state_id         28889 non-null  object \n",
      " 3   state_name       28889 non-null  object \n",
      " 4   county_fips      28889 non-null  int64  \n",
      " 5   county_name      28889 non-null  object \n",
      " 6   county_fips_all  28889 non-null  object \n",
      " 7   county_name_all  28889 non-null  object \n",
      " 8   lat              28889 non-null  float64\n",
      " 9   lng              28889 non-null  float64\n",
      " 10  population       28889 non-null  float64\n",
      " 11  density          28889 non-null  float64\n",
      " 12  source           28889 non-null  object \n",
      " 13  military         28889 non-null  bool   \n",
      " 14  incorporated     28889 non-null  bool   \n",
      " 15  timezone         28889 non-null  object \n",
      " 16  ranking          28889 non-null  int64  \n",
      " 17  zips             28888 non-null  object \n",
      " 18  id               28889 non-null  int64  \n",
      "dtypes: bool(2), float64(4), int64(3), object(10)\n",
      "memory usage: 3.8+ MB\n"
     ]
    }
   ],
   "source": [
    "df_brut_uscities.info()"
   ]
  },
  {
   "cell_type": "markdown",
   "metadata": {},
   "source": [
    "<p style=\"color:#D06AB9\";>We can already observe that there're 4 types of data</p>"
   ]
  },
  {
   "cell_type": "markdown",
   "metadata": {},
   "source": [
    "<p style=\"color:#139C77\";><u>Fichier</u> : Ethnicity Data USA.xlsx</p>"
   ]
  },
  {
   "cell_type": "code",
   "execution_count": 6,
   "metadata": {},
   "outputs": [
    {
     "name": "stderr",
     "output_type": "stream",
     "text": [
      "Done! Use 'show' commands to display/save.   |██████████| [100%]   00:00 -> (00:00 left)"
     ]
    },
    {
     "name": "stdout",
     "output_type": "stream",
     "text": [
      "Report SWEETVIZ_REPORT.html was generated! NOTEBOOK/COLAB USERS: the web browser MAY not pop up, regardless, the report IS saved in your notebook/colab files.\n"
     ]
    },
    {
     "name": "stderr",
     "output_type": "stream",
     "text": [
      "\n"
     ]
    }
   ],
   "source": [
    "df_brut_Ethnicity = pd.read_excel(\"Ethnicity Data USA.xlsx\")\n",
    "analyse_df_brut_Ethnicity = sv.analyze(df_brut_Ethnicity)\n",
    "# analyse_df_brut_3.show_notebook()\n",
    "analyse_df_brut_Ethnicity.show_html()"
   ]
  },
  {
   "cell_type": "code",
   "execution_count": 7,
   "metadata": {},
   "outputs": [
    {
     "name": "stdout",
     "output_type": "stream",
     "text": [
      "<class 'pandas.core.frame.DataFrame'>\n",
      "RangeIndex: 51 entries, 0 to 50\n",
      "Data columns (total 7 columns):\n",
      " #   Column            Non-Null Count  Dtype \n",
      "---  ------            --------------  ----- \n",
      " 0   State             51 non-null     object\n",
      " 1   Total population  51 non-null     int64 \n",
      " 2   White             51 non-null     int64 \n",
      " 3   Black             51 non-null     int64 \n",
      " 4   Hispanic          51 non-null     int64 \n",
      " 5   Asian             51 non-null     int64 \n",
      " 6   American Indian   51 non-null     int64 \n",
      "dtypes: int64(6), object(1)\n",
      "memory usage: 2.9+ KB\n"
     ]
    }
   ],
   "source": [
    "df_brut_Ethnicity.info()"
   ]
  },
  {
   "cell_type": "markdown",
   "metadata": {},
   "source": [
    "<p style=\"color:#D06AB9\">We can already observe that there're 2 types of data</p>"
   ]
  },
  {
   "cell_type": "markdown",
   "metadata": {},
   "source": [
    "<p style=\"color:#139C77\";>Passage on SQL to realize the database and on SSIS to build the 3 tables.</p>\n"
   ]
  },
  {
   "cell_type": "markdown",
   "metadata": {},
   "source": [
    "<center><h3><p style=\"color:#139C77\";>**** Connexion SQL ****</p></h3></center>"
   ]
  },
  {
   "cell_type": "markdown",
   "metadata": {},
   "source": [
    "<p style=\"color:#D06AB9\">Let's display the first lines to get an overview </p>"
   ]
  },
  {
   "cell_type": "code",
   "execution_count": 8,
   "metadata": {},
   "outputs": [
    {
     "data": {
      "text/html": [
       "<div>\n",
       "<style scoped>\n",
       "    .dataframe tbody tr th:only-of-type {\n",
       "        vertical-align: middle;\n",
       "    }\n",
       "\n",
       "    .dataframe tbody tr th {\n",
       "        vertical-align: top;\n",
       "    }\n",
       "\n",
       "    .dataframe thead th {\n",
       "        text-align: right;\n",
       "    }\n",
       "</style>\n",
       "<table border=\"1\" class=\"dataframe\">\n",
       "  <thead>\n",
       "    <tr style=\"text-align: right;\">\n",
       "      <th></th>\n",
       "      <th>id</th>\n",
       "      <th>name</th>\n",
       "      <th>date</th>\n",
       "      <th>manner_of_death</th>\n",
       "      <th>armed</th>\n",
       "      <th>age</th>\n",
       "      <th>gender</th>\n",
       "      <th>race</th>\n",
       "      <th>city</th>\n",
       "      <th>state</th>\n",
       "      <th>signs_of_mental_illness</th>\n",
       "      <th>threat_level</th>\n",
       "      <th>flee</th>\n",
       "      <th>body_camera</th>\n",
       "      <th>longitude</th>\n",
       "      <th>latitude</th>\n",
       "      <th>is_geocoding_exact</th>\n",
       "    </tr>\n",
       "  </thead>\n",
       "  <tbody>\n",
       "    <tr>\n",
       "      <th>0</th>\n",
       "      <td>4677</td>\n",
       "      <td>Rodney Lassiter</td>\n",
       "      <td>2019-03-09</td>\n",
       "      <td>shot</td>\n",
       "      <td>gun</td>\n",
       "      <td>30</td>\n",
       "      <td>M</td>\n",
       "      <td>B</td>\n",
       "      <td>Monahans</td>\n",
       "      <td>TX</td>\n",
       "      <td>True</td>\n",
       "      <td>attack</td>\n",
       "      <td>Not fleeing</td>\n",
       "      <td>False</td>\n",
       "      <td>-102.893</td>\n",
       "      <td>31.6</td>\n",
       "      <td>True</td>\n",
       "    </tr>\n",
       "    <tr>\n",
       "      <th>1</th>\n",
       "      <td>4552</td>\n",
       "      <td>Brandon Robertson</td>\n",
       "      <td>2019-03-10</td>\n",
       "      <td>shot</td>\n",
       "      <td>gun</td>\n",
       "      <td>34</td>\n",
       "      <td>M</td>\n",
       "      <td>N</td>\n",
       "      <td>Redding</td>\n",
       "      <td>CA</td>\n",
       "      <td>False</td>\n",
       "      <td>attack</td>\n",
       "      <td>Foot</td>\n",
       "      <td>False</td>\n",
       "      <td>-122.351</td>\n",
       "      <td>40.565</td>\n",
       "      <td>True</td>\n",
       "    </tr>\n",
       "    <tr>\n",
       "      <th>2</th>\n",
       "      <td>4553</td>\n",
       "      <td>Phillip Wayne Outland</td>\n",
       "      <td>2019-03-10</td>\n",
       "      <td>shot</td>\n",
       "      <td>gun</td>\n",
       "      <td>44</td>\n",
       "      <td>M</td>\n",
       "      <td>W</td>\n",
       "      <td>Cofield</td>\n",
       "      <td>NC</td>\n",
       "      <td>False</td>\n",
       "      <td>attack</td>\n",
       "      <td>Not fleeing</td>\n",
       "      <td>False</td>\n",
       "      <td>-76.838</td>\n",
       "      <td>36.323</td>\n",
       "      <td>True</td>\n",
       "    </tr>\n",
       "    <tr>\n",
       "      <th>3</th>\n",
       "      <td>4555</td>\n",
       "      <td>Sokhom Hon</td>\n",
       "      <td>2019-03-10</td>\n",
       "      <td>shot</td>\n",
       "      <td>unknown weapon</td>\n",
       "      <td>31</td>\n",
       "      <td>M</td>\n",
       "      <td>A</td>\n",
       "      <td>San Bernardino</td>\n",
       "      <td>CA</td>\n",
       "      <td>True</td>\n",
       "      <td>attack</td>\n",
       "      <td>Not fleeing</td>\n",
       "      <td>False</td>\n",
       "      <td>-117.282</td>\n",
       "      <td>34.106</td>\n",
       "      <td>True</td>\n",
       "    </tr>\n",
       "    <tr>\n",
       "      <th>4</th>\n",
       "      <td>4674</td>\n",
       "      <td>Anthony Lee Montoya</td>\n",
       "      <td>2019-03-10</td>\n",
       "      <td>shot</td>\n",
       "      <td>gun</td>\n",
       "      <td>51</td>\n",
       "      <td>M</td>\n",
       "      <td>H</td>\n",
       "      <td>Lakewood</td>\n",
       "      <td>CO</td>\n",
       "      <td>False</td>\n",
       "      <td>attack</td>\n",
       "      <td>Car</td>\n",
       "      <td>False</td>\n",
       "      <td>-105.067</td>\n",
       "      <td>39.686</td>\n",
       "      <td>True</td>\n",
       "    </tr>\n",
       "  </tbody>\n",
       "</table>\n",
       "</div>"
      ],
      "text/plain": [
       "     id                   name        date manner_of_death           armed  \\\n",
       "0  4677        Rodney Lassiter  2019-03-09            shot             gun   \n",
       "1  4552      Brandon Robertson  2019-03-10            shot             gun   \n",
       "2  4553  Phillip Wayne Outland  2019-03-10            shot             gun   \n",
       "3  4555             Sokhom Hon  2019-03-10            shot  unknown weapon   \n",
       "4  4674    Anthony Lee Montoya  2019-03-10            shot             gun   \n",
       "\n",
       "  age gender race            city state signs_of_mental_illness threat_level  \\\n",
       "0  30      M    B        Monahans    TX                    True       attack   \n",
       "1  34      M    N         Redding    CA                   False       attack   \n",
       "2  44      M    W         Cofield    NC                   False       attack   \n",
       "3  31      M    A  San Bernardino    CA                    True       attack   \n",
       "4  51      M    H        Lakewood    CO                   False       attack   \n",
       "\n",
       "          flee body_camera longitude latitude is_geocoding_exact  \n",
       "0  Not fleeing       False  -102.893     31.6               True  \n",
       "1         Foot       False  -122.351   40.565               True  \n",
       "2  Not fleeing       False   -76.838   36.323               True  \n",
       "3  Not fleeing       False  -117.282   34.106               True  \n",
       "4          Car       False  -105.067   39.686               True  "
      ]
     },
     "execution_count": 8,
     "metadata": {},
     "output_type": "execute_result"
    }
   ],
   "source": [
    "df_fatal = pd.read_sql(\"SELECT * FROM [Fatal_Police_Shooting]\", cnxn)\n",
    "df_fatal.head()"
   ]
  },
  {
   "cell_type": "markdown",
   "metadata": {},
   "source": [
    "<p style=\"color:#D06AB9\"> Realize a .info() to get a concise summary of the data frame </p>"
   ]
  },
  {
   "cell_type": "code",
   "execution_count": 9,
   "metadata": {},
   "outputs": [
    {
     "name": "stdout",
     "output_type": "stream",
     "text": [
      "<class 'pandas.core.frame.DataFrame'>\n",
      "RangeIndex: 7504 entries, 0 to 7503\n",
      "Data columns (total 17 columns):\n",
      " #   Column                   Non-Null Count  Dtype \n",
      "---  ------                   --------------  ----- \n",
      " 0   id                       7504 non-null   object\n",
      " 1   name                     7504 non-null   object\n",
      " 2   date                     7504 non-null   object\n",
      " 3   manner_of_death          7504 non-null   object\n",
      " 4   armed                    7504 non-null   object\n",
      " 5   age                      7504 non-null   object\n",
      " 6   gender                   7504 non-null   object\n",
      " 7   race                     7504 non-null   object\n",
      " 8   city                     7504 non-null   object\n",
      " 9   state                    7504 non-null   object\n",
      " 10  signs_of_mental_illness  7504 non-null   object\n",
      " 11  threat_level             7504 non-null   object\n",
      " 12  flee                     7504 non-null   object\n",
      " 13  body_camera              7504 non-null   object\n",
      " 14  longitude                7504 non-null   object\n",
      " 15  latitude                 7504 non-null   object\n",
      " 16  is_geocoding_exact       7504 non-null   object\n",
      "dtypes: object(17)\n",
      "memory usage: 996.8+ KB\n"
     ]
    }
   ],
   "source": [
    "df_fatal.info()"
   ]
  },
  {
   "cell_type": "markdown",
   "metadata": {},
   "source": [
    "<p style=\"color:#D06AB9\"> Let's use describe() to display some basic statistical details. </p>\n"
   ]
  },
  {
   "cell_type": "code",
   "execution_count": 10,
   "metadata": {},
   "outputs": [
    {
     "data": {
      "text/html": [
       "<div>\n",
       "<style scoped>\n",
       "    .dataframe tbody tr th:only-of-type {\n",
       "        vertical-align: middle;\n",
       "    }\n",
       "\n",
       "    .dataframe tbody tr th {\n",
       "        vertical-align: top;\n",
       "    }\n",
       "\n",
       "    .dataframe thead th {\n",
       "        text-align: right;\n",
       "    }\n",
       "</style>\n",
       "<table border=\"1\" class=\"dataframe\">\n",
       "  <thead>\n",
       "    <tr style=\"text-align: right;\">\n",
       "      <th></th>\n",
       "      <th>id</th>\n",
       "      <th>name</th>\n",
       "      <th>date</th>\n",
       "      <th>manner_of_death</th>\n",
       "      <th>armed</th>\n",
       "      <th>age</th>\n",
       "      <th>gender</th>\n",
       "      <th>race</th>\n",
       "      <th>city</th>\n",
       "      <th>state</th>\n",
       "      <th>signs_of_mental_illness</th>\n",
       "      <th>threat_level</th>\n",
       "      <th>flee</th>\n",
       "      <th>body_camera</th>\n",
       "      <th>longitude</th>\n",
       "      <th>latitude</th>\n",
       "      <th>is_geocoding_exact</th>\n",
       "    </tr>\n",
       "  </thead>\n",
       "  <tbody>\n",
       "    <tr>\n",
       "      <th>count</th>\n",
       "      <td>7504</td>\n",
       "      <td>7504</td>\n",
       "      <td>7504</td>\n",
       "      <td>7504</td>\n",
       "      <td>7504</td>\n",
       "      <td>7504</td>\n",
       "      <td>7504</td>\n",
       "      <td>7504</td>\n",
       "      <td>7504</td>\n",
       "      <td>7504</td>\n",
       "      <td>7504</td>\n",
       "      <td>7504</td>\n",
       "      <td>7504</td>\n",
       "      <td>7504</td>\n",
       "      <td>7504</td>\n",
       "      <td>7504</td>\n",
       "      <td>7504</td>\n",
       "    </tr>\n",
       "    <tr>\n",
       "      <th>unique</th>\n",
       "      <td>7504</td>\n",
       "      <td>7087</td>\n",
       "      <td>2548</td>\n",
       "      <td>11</td>\n",
       "      <td>105</td>\n",
       "      <td>87</td>\n",
       "      <td>13</td>\n",
       "      <td>8</td>\n",
       "      <td>3105</td>\n",
       "      <td>61</td>\n",
       "      <td>12</td>\n",
       "      <td>5</td>\n",
       "      <td>7</td>\n",
       "      <td>6</td>\n",
       "      <td>5946</td>\n",
       "      <td>5278</td>\n",
       "      <td>11</td>\n",
       "    </tr>\n",
       "    <tr>\n",
       "      <th>top</th>\n",
       "      <td>4677</td>\n",
       "      <td></td>\n",
       "      <td>2019-01-28</td>\n",
       "      <td>shot</td>\n",
       "      <td>gun</td>\n",
       "      <td></td>\n",
       "      <td>M</td>\n",
       "      <td>W</td>\n",
       "      <td>Los Angeles</td>\n",
       "      <td>CA</td>\n",
       "      <td>False</td>\n",
       "      <td>attack</td>\n",
       "      <td>Not fleeing</td>\n",
       "      <td>False</td>\n",
       "      <td></td>\n",
       "      <td></td>\n",
       "      <td>True</td>\n",
       "    </tr>\n",
       "    <tr>\n",
       "      <th>freq</th>\n",
       "      <td>1</td>\n",
       "      <td>386</td>\n",
       "      <td>9</td>\n",
       "      <td>7157</td>\n",
       "      <td>4272</td>\n",
       "      <td>447</td>\n",
       "      <td>7136</td>\n",
       "      <td>3122</td>\n",
       "      <td>116</td>\n",
       "      <td>1086</td>\n",
       "      <td>5891</td>\n",
       "      <td>4755</td>\n",
       "      <td>4279</td>\n",
       "      <td>6432</td>\n",
       "      <td>710</td>\n",
       "      <td>712</td>\n",
       "      <td>7476</td>\n",
       "    </tr>\n",
       "  </tbody>\n",
       "</table>\n",
       "</div>"
      ],
      "text/plain": [
       "          id  name        date manner_of_death armed   age gender  race  \\\n",
       "count   7504  7504        7504            7504  7504  7504   7504  7504   \n",
       "unique  7504  7087        2548              11   105    87     13     8   \n",
       "top     4677        2019-01-28            shot   gun            M     W   \n",
       "freq       1   386           9            7157  4272   447   7136  3122   \n",
       "\n",
       "               city state signs_of_mental_illness threat_level         flee  \\\n",
       "count          7504  7504                    7504         7504         7504   \n",
       "unique         3105    61                      12            5            7   \n",
       "top     Los Angeles    CA                   False       attack  Not fleeing   \n",
       "freq            116  1086                    5891         4755         4279   \n",
       "\n",
       "       body_camera longitude latitude is_geocoding_exact  \n",
       "count         7504      7504     7504               7504  \n",
       "unique           6      5946     5278                 11  \n",
       "top          False                                  True  \n",
       "freq          6432       710      712               7476  "
      ]
     },
     "execution_count": 10,
     "metadata": {},
     "output_type": "execute_result"
    }
   ],
   "source": [
    "df_fatal.describe(include='all')"
   ]
  },
  {
   "cell_type": "markdown",
   "metadata": {},
   "source": [
    "<p style=\"color:#D06AB9\"> Let's check if there are any nulls </p>"
   ]
  },
  {
   "cell_type": "code",
   "execution_count": 11,
   "metadata": {},
   "outputs": [
    {
     "data": {
      "text/plain": [
       "0"
      ]
     },
     "execution_count": 11,
     "metadata": {},
     "output_type": "execute_result"
    }
   ],
   "source": [
    "df_fatal.isnull().sum().sum()"
   ]
  },
  {
   "cell_type": "markdown",
   "metadata": {},
   "source": [
    "<p style=\"color:#D06AB9\">check for duplicates. </p>"
   ]
  },
  {
   "cell_type": "code",
   "execution_count": null,
   "metadata": {},
   "outputs": [],
   "source": []
  },
  {
   "cell_type": "markdown",
   "metadata": {},
   "source": [
    "<p style=\"color:#D06AB9\"> Let's delete the columns that I think are unnecessary. </p>"
   ]
  },
  {
   "cell_type": "code",
   "execution_count": null,
   "metadata": {},
   "outputs": [],
   "source": []
  },
  {
   "cell_type": "code",
   "execution_count": 12,
   "metadata": {},
   "outputs": [
    {
     "data": {
      "text/html": [
       "<div>\n",
       "<style scoped>\n",
       "    .dataframe tbody tr th:only-of-type {\n",
       "        vertical-align: middle;\n",
       "    }\n",
       "\n",
       "    .dataframe tbody tr th {\n",
       "        vertical-align: top;\n",
       "    }\n",
       "\n",
       "    .dataframe thead th {\n",
       "        text-align: right;\n",
       "    }\n",
       "</style>\n",
       "<table border=\"1\" class=\"dataframe\">\n",
       "  <thead>\n",
       "    <tr style=\"text-align: right;\">\n",
       "      <th></th>\n",
       "      <th>city</th>\n",
       "      <th>city_ascii</th>\n",
       "      <th>state_id</th>\n",
       "      <th>state_name</th>\n",
       "      <th>county_fips</th>\n",
       "      <th>county_name</th>\n",
       "      <th>county_fips_all</th>\n",
       "      <th>county_name_all</th>\n",
       "      <th>lat</th>\n",
       "      <th>lng</th>\n",
       "      <th>population</th>\n",
       "      <th>density</th>\n",
       "      <th>source</th>\n",
       "      <th>military</th>\n",
       "      <th>incorporated</th>\n",
       "      <th>timezone</th>\n",
       "      <th>ranking</th>\n",
       "      <th>zips</th>\n",
       "      <th>id</th>\n",
       "    </tr>\n",
       "  </thead>\n",
       "  <tbody>\n",
       "    <tr>\n",
       "      <th>0</th>\n",
       "      <td>South Creek</td>\n",
       "      <td>South Creek</td>\n",
       "      <td>WA</td>\n",
       "      <td>Washington</td>\n",
       "      <td>53053</td>\n",
       "      <td>Pierce</td>\n",
       "      <td>53053</td>\n",
       "      <td>Pierce</td>\n",
       "      <td>46.9994</td>\n",
       "      <td>-122.3921</td>\n",
       "      <td>2500</td>\n",
       "      <td>125</td>\n",
       "      <td>polygon</td>\n",
       "      <td>FALSE</td>\n",
       "      <td>TRUE</td>\n",
       "      <td>America/Los_Angeles</td>\n",
       "      <td>3</td>\n",
       "      <td>98580 98387 98338</td>\n",
       "      <td>1840042075</td>\n",
       "    </tr>\n",
       "    <tr>\n",
       "      <th>1</th>\n",
       "      <td>Roslyn</td>\n",
       "      <td>Roslyn</td>\n",
       "      <td>WA</td>\n",
       "      <td>Washington</td>\n",
       "      <td>53037</td>\n",
       "      <td>Kittitas</td>\n",
       "      <td>53037</td>\n",
       "      <td>Kittitas</td>\n",
       "      <td>47.2507</td>\n",
       "      <td>-121.0989</td>\n",
       "      <td>947</td>\n",
       "      <td>84</td>\n",
       "      <td>polygon</td>\n",
       "      <td>FALSE</td>\n",
       "      <td>TRUE</td>\n",
       "      <td>America/Los_Angeles</td>\n",
       "      <td>3</td>\n",
       "      <td>98941 98068 98925</td>\n",
       "      <td>1840019842</td>\n",
       "    </tr>\n",
       "    <tr>\n",
       "      <th>2</th>\n",
       "      <td>Sprague</td>\n",
       "      <td>Sprague</td>\n",
       "      <td>WA</td>\n",
       "      <td>Washington</td>\n",
       "      <td>53043</td>\n",
       "      <td>Lincoln</td>\n",
       "      <td>53043</td>\n",
       "      <td>Lincoln</td>\n",
       "      <td>47.3048</td>\n",
       "      <td>-117.9713</td>\n",
       "      <td>441</td>\n",
       "      <td>163</td>\n",
       "      <td>polygon</td>\n",
       "      <td>FALSE</td>\n",
       "      <td>TRUE</td>\n",
       "      <td>America/Los_Angeles</td>\n",
       "      <td>3</td>\n",
       "      <td>99032</td>\n",
       "      <td>1840021107</td>\n",
       "    </tr>\n",
       "    <tr>\n",
       "      <th>3</th>\n",
       "      <td>Gig Harbor</td>\n",
       "      <td>Gig Harbor</td>\n",
       "      <td>WA</td>\n",
       "      <td>Washington</td>\n",
       "      <td>53053</td>\n",
       "      <td>Pierce</td>\n",
       "      <td>53053</td>\n",
       "      <td>Pierce</td>\n",
       "      <td>47.3352</td>\n",
       "      <td>-122.5968</td>\n",
       "      <td>9507</td>\n",
       "      <td>622</td>\n",
       "      <td>polygon</td>\n",
       "      <td>FALSE</td>\n",
       "      <td>TRUE</td>\n",
       "      <td>America/Los_Angeles</td>\n",
       "      <td>3</td>\n",
       "      <td>98332 98335</td>\n",
       "      <td>1840019855</td>\n",
       "    </tr>\n",
       "    <tr>\n",
       "      <th>4</th>\n",
       "      <td>Lake Cassidy</td>\n",
       "      <td>Lake Cassidy</td>\n",
       "      <td>WA</td>\n",
       "      <td>Washington</td>\n",
       "      <td>53061</td>\n",
       "      <td>Snohomish</td>\n",
       "      <td>53061</td>\n",
       "      <td>Snohomish</td>\n",
       "      <td>48.0639</td>\n",
       "      <td>-122.0920</td>\n",
       "      <td>3591</td>\n",
       "      <td>131</td>\n",
       "      <td>polygon</td>\n",
       "      <td>FALSE</td>\n",
       "      <td>TRUE</td>\n",
       "      <td>America/Los_Angeles</td>\n",
       "      <td>3</td>\n",
       "      <td>98223 98258 98270</td>\n",
       "      <td>1840041959</td>\n",
       "    </tr>\n",
       "  </tbody>\n",
       "</table>\n",
       "</div>"
      ],
      "text/plain": [
       "           city    city_ascii state_id  state_name county_fips county_name  \\\n",
       "0   South Creek   South Creek       WA  Washington       53053      Pierce   \n",
       "1        Roslyn        Roslyn       WA  Washington       53037    Kittitas   \n",
       "2       Sprague       Sprague       WA  Washington       53043     Lincoln   \n",
       "3    Gig Harbor    Gig Harbor       WA  Washington       53053      Pierce   \n",
       "4  Lake Cassidy  Lake Cassidy       WA  Washington       53061   Snohomish   \n",
       "\n",
       "  county_fips_all county_name_all      lat        lng population density  \\\n",
       "0           53053          Pierce  46.9994  -122.3921       2500     125   \n",
       "1           53037        Kittitas  47.2507  -121.0989        947      84   \n",
       "2           53043         Lincoln  47.3048  -117.9713        441     163   \n",
       "3           53053          Pierce  47.3352  -122.5968       9507     622   \n",
       "4           53061       Snohomish  48.0639  -122.0920       3591     131   \n",
       "\n",
       "    source military incorporated             timezone ranking  \\\n",
       "0  polygon    FALSE         TRUE  America/Los_Angeles       3   \n",
       "1  polygon    FALSE         TRUE  America/Los_Angeles       3   \n",
       "2  polygon    FALSE         TRUE  America/Los_Angeles       3   \n",
       "3  polygon    FALSE         TRUE  America/Los_Angeles       3   \n",
       "4  polygon    FALSE         TRUE  America/Los_Angeles       3   \n",
       "\n",
       "                zips          id  \n",
       "0  98580 98387 98338  1840042075  \n",
       "1  98941 98068 98925  1840019842  \n",
       "2              99032  1840021107  \n",
       "3        98332 98335  1840019855  \n",
       "4  98223 98258 98270  1840041959  "
      ]
     },
     "execution_count": 12,
     "metadata": {},
     "output_type": "execute_result"
    }
   ],
   "source": [
    "df_us_cities = pd.read_sql(\"SELECT * FROM [us_cities]\", cnxn)\n",
    "df_us_cities.head()"
   ]
  },
  {
   "cell_type": "code",
   "execution_count": 13,
   "metadata": {},
   "outputs": [
    {
     "name": "stdout",
     "output_type": "stream",
     "text": [
      "<class 'pandas.core.frame.DataFrame'>\n",
      "RangeIndex: 28889 entries, 0 to 28888\n",
      "Data columns (total 19 columns):\n",
      " #   Column           Non-Null Count  Dtype \n",
      "---  ------           --------------  ----- \n",
      " 0   city             28889 non-null  object\n",
      " 1   city_ascii       28889 non-null  object\n",
      " 2   state_id         28889 non-null  object\n",
      " 3   state_name       28889 non-null  object\n",
      " 4   county_fips      28889 non-null  object\n",
      " 5   county_name      28889 non-null  object\n",
      " 6   county_fips_all  28889 non-null  object\n",
      " 7   county_name_all  28889 non-null  object\n",
      " 8   lat              28889 non-null  object\n",
      " 9   lng              28889 non-null  object\n",
      " 10  population       28889 non-null  object\n",
      " 11  density          28889 non-null  object\n",
      " 12  source           28889 non-null  object\n",
      " 13  military         28889 non-null  object\n",
      " 14  incorporated     28889 non-null  object\n",
      " 15  timezone         28889 non-null  object\n",
      " 16  ranking          28889 non-null  object\n",
      " 17  zips             28889 non-null  object\n",
      " 18  id               28889 non-null  object\n",
      "dtypes: object(19)\n",
      "memory usage: 4.2+ MB\n"
     ]
    }
   ],
   "source": [
    "df_us_cities.info()"
   ]
  },
  {
   "cell_type": "code",
   "execution_count": 14,
   "metadata": {},
   "outputs": [
    {
     "data": {
      "text/html": [
       "<div>\n",
       "<style scoped>\n",
       "    .dataframe tbody tr th:only-of-type {\n",
       "        vertical-align: middle;\n",
       "    }\n",
       "\n",
       "    .dataframe tbody tr th {\n",
       "        vertical-align: top;\n",
       "    }\n",
       "\n",
       "    .dataframe thead th {\n",
       "        text-align: right;\n",
       "    }\n",
       "</style>\n",
       "<table border=\"1\" class=\"dataframe\">\n",
       "  <thead>\n",
       "    <tr style=\"text-align: right;\">\n",
       "      <th></th>\n",
       "      <th>State</th>\n",
       "      <th>Total population</th>\n",
       "      <th>White</th>\n",
       "      <th>Black</th>\n",
       "      <th>Hispanic</th>\n",
       "      <th>Asian</th>\n",
       "      <th>American Indian</th>\n",
       "    </tr>\n",
       "  </thead>\n",
       "  <tbody>\n",
       "    <tr>\n",
       "      <th>0</th>\n",
       "      <td>Alabama</td>\n",
       "      <td>4874747.0</td>\n",
       "      <td>3191450.0</td>\n",
       "      <td>1302295.0</td>\n",
       "      <td>201970.0</td>\n",
       "      <td>65494.0</td>\n",
       "      <td>22209.0</td>\n",
       "    </tr>\n",
       "    <tr>\n",
       "      <th>1</th>\n",
       "      <td>Alaska</td>\n",
       "      <td>739795.0</td>\n",
       "      <td>448081.0</td>\n",
       "      <td>21192.0</td>\n",
       "      <td>51712.0</td>\n",
       "      <td>48569.0</td>\n",
       "      <td>105146.0</td>\n",
       "    </tr>\n",
       "    <tr>\n",
       "      <th>2</th>\n",
       "      <td>Arizona</td>\n",
       "      <td>7016270.0</td>\n",
       "      <td>3836639.0</td>\n",
       "      <td>290379.0</td>\n",
       "      <td>2202173.0</td>\n",
       "      <td>225810.0</td>\n",
       "      <td>274496.0</td>\n",
       "    </tr>\n",
       "    <tr>\n",
       "      <th>3</th>\n",
       "      <td>Arkansas</td>\n",
       "      <td>3004279.0</td>\n",
       "      <td>2173307.0</td>\n",
       "      <td>455500.0</td>\n",
       "      <td>223764.0</td>\n",
       "      <td>46583.0</td>\n",
       "      <td>16901.0</td>\n",
       "    </tr>\n",
       "    <tr>\n",
       "      <th>4</th>\n",
       "      <td>California</td>\n",
       "      <td>39536653.0</td>\n",
       "      <td>14616636.0</td>\n",
       "      <td>2164239.0</td>\n",
       "      <td>15477306.0</td>\n",
       "      <td>5679986.0</td>\n",
       "      <td>147880.0</td>\n",
       "    </tr>\n",
       "  </tbody>\n",
       "</table>\n",
       "</div>"
      ],
      "text/plain": [
       "        State  Total population       White      Black    Hispanic      Asian  \\\n",
       "0     Alabama         4874747.0   3191450.0  1302295.0    201970.0    65494.0   \n",
       "1      Alaska          739795.0    448081.0    21192.0     51712.0    48569.0   \n",
       "2     Arizona         7016270.0   3836639.0   290379.0   2202173.0   225810.0   \n",
       "3    Arkansas         3004279.0   2173307.0   455500.0    223764.0    46583.0   \n",
       "4  California        39536653.0  14616636.0  2164239.0  15477306.0  5679986.0   \n",
       "\n",
       "   American Indian  \n",
       "0          22209.0  \n",
       "1         105146.0  \n",
       "2         274496.0  \n",
       "3          16901.0  \n",
       "4         147880.0  "
      ]
     },
     "execution_count": 14,
     "metadata": {},
     "output_type": "execute_result"
    }
   ],
   "source": [
    "df_Etnicity = pd.read_sql(\"SELECT * FROM [Etnicity]\", cnxn)\n",
    "df_Etnicity.head()"
   ]
  },
  {
   "cell_type": "code",
   "execution_count": 15,
   "metadata": {},
   "outputs": [
    {
     "name": "stdout",
     "output_type": "stream",
     "text": [
      "<class 'pandas.core.frame.DataFrame'>\n",
      "RangeIndex: 51 entries, 0 to 50\n",
      "Data columns (total 7 columns):\n",
      " #   Column            Non-Null Count  Dtype  \n",
      "---  ------            --------------  -----  \n",
      " 0   State             51 non-null     object \n",
      " 1   Total population  51 non-null     float64\n",
      " 2   White             51 non-null     float64\n",
      " 3   Black             51 non-null     float64\n",
      " 4   Hispanic          51 non-null     float64\n",
      " 5   Asian             51 non-null     float64\n",
      " 6   American Indian   51 non-null     float64\n",
      "dtypes: float64(6), object(1)\n",
      "memory usage: 2.9+ KB\n"
     ]
    }
   ],
   "source": [
    "df_Etnicity.info()"
   ]
  }
 ],
 "metadata": {
  "kernelspec": {
   "display_name": "Python 3.9.7 ('base')",
   "language": "python",
   "name": "python3"
  },
  "language_info": {
   "codemirror_mode": {
    "name": "ipython",
    "version": 3
   },
   "file_extension": ".py",
   "mimetype": "text/x-python",
   "name": "python",
   "nbconvert_exporter": "python",
   "pygments_lexer": "ipython3",
   "version": "3.9.7"
  },
  "orig_nbformat": 4,
  "vscode": {
   "interpreter": {
    "hash": "35eb59dc1175a6e36ac6f85529fd57a1bdfb070562af1bfce2d8b2d0113a1f3d"
   }
  }
 },
 "nbformat": 4,
 "nbformat_minor": 2
}
