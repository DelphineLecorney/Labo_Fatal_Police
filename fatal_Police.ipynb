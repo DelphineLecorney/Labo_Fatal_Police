{
 "cells": [
  {
   "cell_type": "markdown",
   "metadata": {},
   "source": [
    "<br>\n",
    "<center><img src= \"Images\\Capture.PNG\" width=\"700\" height=\"350\"></center><br><br>\n",
    "\n",
    "<center><h4><p style=\"color:#FFFFFF\";>**** 👮 US POLICE SHOOTING 👮‍ ****\n",
    "</p><h4></center>"
   ]
  },
  {
   "cell_type": "markdown",
   "metadata": {},
   "source": [
    "<center><h3><p style=\"color:#139C77\";>**** Importation des modules nécessaires ****</p></h3></center>"
   ]
  },
  {
   "cell_type": "code",
   "execution_count": 4,
   "metadata": {},
   "outputs": [],
   "source": [
    "import matplotlib.pyplot as plt\n",
    "import pandas as pd\n",
    "import numpy as np\n",
    "\n",
    "from secret import cnxn"
   ]
  },
  {
   "cell_type": "markdown",
   "metadata": {},
   "source": [
    "<center><h3><p style=\"color:#D06AB9\">**** Lecture et preview des fichiers bruts ****</p></h3></center>"
   ]
  },
  {
   "cell_type": "markdown",
   "metadata": {},
   "source": [
    "<p style=\"color:#139C77\";><u>Fichier</u> : fatal-police-shootings-data.csv</p>"
   ]
  },
  {
   "cell_type": "markdown",
   "metadata": {},
   "source": [
    "<p style=\"color:#139C77\";>Study Data</p>"
   ]
  },
  {
   "cell_type": "markdown",
   "metadata": {},
   "source": [
    "<p style=\"color:#D06AB9\";>We can already observe that there're 4 types of data</p>\n",
    "\n"
   ]
  },
  {
   "cell_type": "markdown",
   "metadata": {},
   "source": [
    "<p style=\"color:#139C77\";><u>Fichier</u> : uscities.csv</p>"
   ]
  },
  {
   "cell_type": "markdown",
   "metadata": {},
   "source": [
    "<p style=\"color:#D06AB9\";>We can already observe that there're 4 types of data</p>"
   ]
  },
  {
   "cell_type": "markdown",
   "metadata": {},
   "source": [
    "<p style=\"color:#139C77\";><u>Fichier</u> : Ethnicity Data USA.xlsx</p>"
   ]
  },
  {
   "cell_type": "markdown",
   "metadata": {},
   "source": [
    "<p style=\"color:#D06AB9\">We can already observe that there're 2 types of data</p>"
   ]
  },
  {
   "cell_type": "markdown",
   "metadata": {},
   "source": [
    "<p style=\"color:#139C77\";>Passage on SQL to realize the database and on SSIS to build the 3 tables.</p>\n"
   ]
  },
  {
   "cell_type": "markdown",
   "metadata": {},
   "source": [
    "<center><h3><p style=\"color:#139C77\";>**** Connexion SQL ****</p></h3></center>"
   ]
  },
  {
   "cell_type": "markdown",
   "metadata": {},
   "source": [
    "<center><h3><p style=\"color:#139C77\";> Fichier \"Fatal_Police_Shooting\"</p></h3></center>"
   ]
  },
  {
   "cell_type": "markdown",
   "metadata": {},
   "source": [
    "<p style=\"color:#D06AB9\">Let's display the first lines to get an overview </p>"
   ]
  },
  {
   "cell_type": "code",
   "execution_count": 22,
   "metadata": {},
   "outputs": [],
   "source": [
    "df_fatal = pd.read_sql(\"SELECT * FROM [Fatal_Police_Shooting]\", cnxn)"
   ]
  },
  {
   "cell_type": "markdown",
   "metadata": {},
   "source": [
    "<p style=\"color:#D06AB9\"> Realize a .shape() of the data frame </p>"
   ]
  },
  {
   "cell_type": "code",
   "execution_count": 23,
   "metadata": {},
   "outputs": [
    {
     "data": {
      "text/plain": [
       "(7504, 17)"
      ]
     },
     "execution_count": 23,
     "metadata": {},
     "output_type": "execute_result"
    }
   ],
   "source": [
    "df_fatal.shape"
   ]
  },
  {
   "cell_type": "markdown",
   "metadata": {},
   "source": [
    "<p style=\"color:#D06AB9\"> Realize a .info() to get a concise summary of the data frame </p>"
   ]
  },
  {
   "cell_type": "code",
   "execution_count": 24,
   "metadata": {},
   "outputs": [
    {
     "name": "stdout",
     "output_type": "stream",
     "text": [
      "<class 'pandas.core.frame.DataFrame'>\n",
      "RangeIndex: 7504 entries, 0 to 7503\n",
      "Data columns (total 17 columns):\n",
      " #   Column                   Non-Null Count  Dtype \n",
      "---  ------                   --------------  ----- \n",
      " 0   id                       7504 non-null   int64 \n",
      " 1   name                     7118 non-null   object\n",
      " 2   date                     7504 non-null   object\n",
      " 3   manner_of_death          7504 non-null   object\n",
      " 4   armed                    7295 non-null   object\n",
      " 5   age                      7057 non-null   object\n",
      " 6   gender                   7485 non-null   object\n",
      " 7   race                     6122 non-null   object\n",
      " 8   city                     7504 non-null   object\n",
      " 9   state                    7504 non-null   object\n",
      " 10  signs_of_mental_illness  7504 non-null   object\n",
      " 11  threat_level             7504 non-null   object\n",
      " 12  flee                     6741 non-null   object\n",
      " 13  body_camera              7504 non-null   object\n",
      " 14  longitude                6792 non-null   object\n",
      " 15  latitude                 6792 non-null   object\n",
      " 16  is_geocoding_exact       7504 non-null   object\n",
      "dtypes: int64(1), object(16)\n",
      "memory usage: 996.8+ KB\n"
     ]
    }
   ],
   "source": [
    "df_fatal.info()"
   ]
  },
  {
   "cell_type": "markdown",
   "metadata": {},
   "source": [
    "<p style=\"color:#D06AB9\">Let's display the first lines to get an overview </p>"
   ]
  },
  {
   "cell_type": "code",
   "execution_count": null,
   "metadata": {},
   "outputs": [],
   "source": [
    "df_fatal.head()"
   ]
  },
  {
   "cell_type": "code",
   "execution_count": null,
   "metadata": {},
   "outputs": [],
   "source": [
    "df_fatal.columns"
   ]
  },
  {
   "cell_type": "markdown",
   "metadata": {},
   "source": [
    "<p style=\"color:#D06AB9\">I decide to delete the column \"is_geocoding_exact\" and \"body_camera\". </p>"
   ]
  },
  {
   "cell_type": "code",
   "execution_count": null,
   "metadata": {},
   "outputs": [],
   "source": [
    "df_fatal = df_fatal.drop(columns=[\"is_geocoding_exact\", \"body_camera\"])\n"
   ]
  },
  {
   "cell_type": "markdown",
   "metadata": {},
   "source": [
    "Vértifions qu'elles soient bien supprimées"
   ]
  },
  {
   "cell_type": "code",
   "execution_count": null,
   "metadata": {},
   "outputs": [],
   "source": [
    "df_fatal.columns"
   ]
  },
  {
   "cell_type": "markdown",
   "metadata": {},
   "source": [
    "Vérifions la colonne date"
   ]
  },
  {
   "cell_type": "code",
   "execution_count": null,
   "metadata": {},
   "outputs": [],
   "source": [
    "df_fatal['date'].unique()\n"
   ]
  },
  {
   "cell_type": "code",
   "execution_count": null,
   "metadata": {},
   "outputs": [],
   "source": [
    "df_fatal['date'].isnull().sum()"
   ]
  },
  {
   "cell_type": "markdown",
   "metadata": {},
   "source": [
    "Puis vérifions la colonne age"
   ]
  },
  {
   "cell_type": "code",
   "execution_count": null,
   "metadata": {},
   "outputs": [],
   "source": [
    "df_fatal['age'].unique()"
   ]
  },
  {
   "cell_type": "markdown",
   "metadata": {},
   "source": [
    "On se rend compte qu'il n'y a pas que des numériques, vérifions les nulls."
   ]
  },
  {
   "cell_type": "code",
   "execution_count": null,
   "metadata": {},
   "outputs": [],
   "source": [
    "df_fatal['age'].isnull().sum()"
   ]
  },
  {
   "cell_type": "markdown",
   "metadata": {},
   "source": [
    "Je remplace les nulls par des 0 et je vérifie"
   ]
  },
  {
   "cell_type": "code",
   "execution_count": null,
   "metadata": {},
   "outputs": [],
   "source": [
    "df_fatal['age'] = df_fatal['age'].fillna(0)\n",
    "df_fatal['age'].isnull().sum()"
   ]
  },
  {
   "cell_type": "markdown",
   "metadata": {},
   "source": [
    "Je vérifie longitude"
   ]
  },
  {
   "cell_type": "code",
   "execution_count": null,
   "metadata": {},
   "outputs": [],
   "source": [
    "df_fatal['longitude'].unique()"
   ]
  },
  {
   "cell_type": "code",
   "execution_count": null,
   "metadata": {},
   "outputs": [],
   "source": [
    "df_fatal['longitude'].isnull().sum()"
   ]
  },
  {
   "cell_type": "code",
   "execution_count": null,
   "metadata": {},
   "outputs": [],
   "source": [
    "df_fatal['longitude'] = df_fatal['longitude'].fillna(0)\n",
    "df_fatal['longitude'].isnull().sum()"
   ]
  },
  {
   "cell_type": "markdown",
   "metadata": {},
   "source": [
    "Je vérifie latitude"
   ]
  },
  {
   "cell_type": "code",
   "execution_count": null,
   "metadata": {},
   "outputs": [],
   "source": [
    "df_fatal['latitude'].unique()"
   ]
  },
  {
   "cell_type": "code",
   "execution_count": null,
   "metadata": {},
   "outputs": [],
   "source": [
    "df_fatal['latitude'].isnull().sum()"
   ]
  },
  {
   "cell_type": "code",
   "execution_count": null,
   "metadata": {},
   "outputs": [],
   "source": [
    "df_fatal['latitude'] = df_fatal['latitude'].fillna(0)\n",
    "df_fatal['latitude'].isnull().sum()"
   ]
  },
  {
   "cell_type": "markdown",
   "metadata": {},
   "source": [
    "<p style=\"color:#D06AB9\"> Replacement of nulls by \"indeterminate\" for the other columns.</p>"
   ]
  },
  {
   "cell_type": "markdown",
   "metadata": {},
   "source": [
    "Colonne name"
   ]
  },
  {
   "cell_type": "code",
   "execution_count": null,
   "metadata": {},
   "outputs": [],
   "source": [
    "df_fatal['name'].isnull().sum()"
   ]
  },
  {
   "cell_type": "code",
   "execution_count": null,
   "metadata": {},
   "outputs": [],
   "source": [
    "df_fatal['name'] = df_fatal['name'].replace(np.nan, \"undetermined\")\n",
    "df_fatal['name'].isnull().sum()"
   ]
  },
  {
   "cell_type": "markdown",
   "metadata": {},
   "source": [
    "Colonne manner of death"
   ]
  },
  {
   "cell_type": "code",
   "execution_count": null,
   "metadata": {},
   "outputs": [],
   "source": [
    "df_fatal['manner_of_death'].isnull().sum()"
   ]
  },
  {
   "cell_type": "markdown",
   "metadata": {},
   "source": [
    "Colonne armed"
   ]
  },
  {
   "cell_type": "code",
   "execution_count": null,
   "metadata": {},
   "outputs": [],
   "source": [
    "df_fatal['armed'].isnull().sum()"
   ]
  },
  {
   "cell_type": "code",
   "execution_count": null,
   "metadata": {},
   "outputs": [],
   "source": [
    "df_fatal['armed'] = df_fatal['armed'].replace(np.nan, \"undetermined\")\n",
    "df_fatal['armed'].isnull().sum()"
   ]
  },
  {
   "cell_type": "markdown",
   "metadata": {},
   "source": [
    "Colonne gender"
   ]
  },
  {
   "cell_type": "code",
   "execution_count": null,
   "metadata": {},
   "outputs": [],
   "source": [
    "df_fatal['gender'].unique()"
   ]
  },
  {
   "cell_type": "code",
   "execution_count": null,
   "metadata": {},
   "outputs": [],
   "source": [
    "df_fatal['gender'].isnull().sum()"
   ]
  },
  {
   "cell_type": "code",
   "execution_count": null,
   "metadata": {},
   "outputs": [],
   "source": [
    "df_fatal['gender'] = df_fatal['gender'].replace(np.nan, \"undetermined\")\n",
    "df_fatal['gender'].isnull().sum()"
   ]
  },
  {
   "cell_type": "markdown",
   "metadata": {},
   "source": [
    "Colonne race"
   ]
  },
  {
   "cell_type": "code",
   "execution_count": null,
   "metadata": {},
   "outputs": [],
   "source": [
    "df_fatal['race'].unique()"
   ]
  },
  {
   "cell_type": "code",
   "execution_count": null,
   "metadata": {},
   "outputs": [],
   "source": [
    "df_fatal['race'].isnull().sum()"
   ]
  },
  {
   "cell_type": "code",
   "execution_count": null,
   "metadata": {},
   "outputs": [],
   "source": [
    "df_fatal['race'] = df_fatal['race'].replace('None', \"undetermined\")\n",
    "df_fatal['race'] = df_fatal['race'].replace('N', \"undetermined\")\n",
    "df_fatal['race'] = df_fatal['race'].replace('O', \"undetermined\")\n",
    "df_fatal['race'].isnull().sum()"
   ]
  },
  {
   "cell_type": "markdown",
   "metadata": {},
   "source": [
    "Colonne city"
   ]
  },
  {
   "cell_type": "code",
   "execution_count": null,
   "metadata": {},
   "outputs": [],
   "source": [
    "df_fatal['city'].isnull().sum()"
   ]
  },
  {
   "cell_type": "markdown",
   "metadata": {},
   "source": [
    "Colonne state"
   ]
  },
  {
   "cell_type": "code",
   "execution_count": null,
   "metadata": {},
   "outputs": [],
   "source": [
    "df_fatal['state'].isnull().sum()"
   ]
  },
  {
   "cell_type": "markdown",
   "metadata": {},
   "source": [
    "Colonne signs of menta illness"
   ]
  },
  {
   "cell_type": "code",
   "execution_count": null,
   "metadata": {},
   "outputs": [],
   "source": [
    "df_fatal['signs_of_mental_illness'].isnull().sum()"
   ]
  },
  {
   "cell_type": "markdown",
   "metadata": {},
   "source": [
    "Colonne threat level"
   ]
  },
  {
   "cell_type": "code",
   "execution_count": null,
   "metadata": {},
   "outputs": [],
   "source": [
    "df_fatal['threat_level'].isnull().sum()"
   ]
  },
  {
   "cell_type": "markdown",
   "metadata": {},
   "source": [
    "Colonne flee"
   ]
  },
  {
   "cell_type": "code",
   "execution_count": null,
   "metadata": {},
   "outputs": [],
   "source": [
    "df_fatal['flee'].isnull().sum()"
   ]
  },
  {
   "cell_type": "code",
   "execution_count": null,
   "metadata": {},
   "outputs": [],
   "source": [
    "df_fatal['flee'] = df_fatal['flee'].replace(np.nan, \"undetermined\")\n",
    "df_fatal['flee'].isnull().sum()"
   ]
  },
  {
   "cell_type": "markdown",
   "metadata": {},
   "source": [
    "<center><h3><p style=\"color:#139C77\";> Fichier \"us_cities\"</p></h3></center>"
   ]
  },
  {
   "cell_type": "code",
   "execution_count": 5,
   "metadata": {},
   "outputs": [
    {
     "data": {
      "text/html": [
       "<div>\n",
       "<style scoped>\n",
       "    .dataframe tbody tr th:only-of-type {\n",
       "        vertical-align: middle;\n",
       "    }\n",
       "\n",
       "    .dataframe tbody tr th {\n",
       "        vertical-align: top;\n",
       "    }\n",
       "\n",
       "    .dataframe thead th {\n",
       "        text-align: right;\n",
       "    }\n",
       "</style>\n",
       "<table border=\"1\" class=\"dataframe\">\n",
       "  <thead>\n",
       "    <tr style=\"text-align: right;\">\n",
       "      <th></th>\n",
       "      <th>city</th>\n",
       "      <th>city_ascii</th>\n",
       "      <th>state_id</th>\n",
       "      <th>state_name</th>\n",
       "      <th>county_fips</th>\n",
       "      <th>county_name</th>\n",
       "      <th>county_fips_all</th>\n",
       "      <th>county_name_all</th>\n",
       "      <th>lat</th>\n",
       "      <th>lng</th>\n",
       "      <th>population</th>\n",
       "      <th>density</th>\n",
       "      <th>source</th>\n",
       "      <th>military</th>\n",
       "      <th>incorporated</th>\n",
       "      <th>timezone</th>\n",
       "      <th>ranking</th>\n",
       "      <th>zips</th>\n",
       "      <th>id</th>\n",
       "    </tr>\n",
       "  </thead>\n",
       "  <tbody>\n",
       "    <tr>\n",
       "      <th>0</th>\n",
       "      <td>South Creek</td>\n",
       "      <td>South Creek</td>\n",
       "      <td>WA</td>\n",
       "      <td>Washington</td>\n",
       "      <td>53053</td>\n",
       "      <td>Pierce</td>\n",
       "      <td>53053</td>\n",
       "      <td>Pierce</td>\n",
       "      <td>46.9994</td>\n",
       "      <td>-122.3921</td>\n",
       "      <td>2500</td>\n",
       "      <td>125</td>\n",
       "      <td>polygon</td>\n",
       "      <td>FALSE</td>\n",
       "      <td>TRUE</td>\n",
       "      <td>America/Los_Angeles</td>\n",
       "      <td>3</td>\n",
       "      <td>98580 98387 98338</td>\n",
       "      <td>1840042075</td>\n",
       "    </tr>\n",
       "    <tr>\n",
       "      <th>1</th>\n",
       "      <td>Roslyn</td>\n",
       "      <td>Roslyn</td>\n",
       "      <td>WA</td>\n",
       "      <td>Washington</td>\n",
       "      <td>53037</td>\n",
       "      <td>Kittitas</td>\n",
       "      <td>53037</td>\n",
       "      <td>Kittitas</td>\n",
       "      <td>47.2507</td>\n",
       "      <td>-121.0989</td>\n",
       "      <td>947</td>\n",
       "      <td>84</td>\n",
       "      <td>polygon</td>\n",
       "      <td>FALSE</td>\n",
       "      <td>TRUE</td>\n",
       "      <td>America/Los_Angeles</td>\n",
       "      <td>3</td>\n",
       "      <td>98941 98068 98925</td>\n",
       "      <td>1840019842</td>\n",
       "    </tr>\n",
       "    <tr>\n",
       "      <th>2</th>\n",
       "      <td>Sprague</td>\n",
       "      <td>Sprague</td>\n",
       "      <td>WA</td>\n",
       "      <td>Washington</td>\n",
       "      <td>53043</td>\n",
       "      <td>Lincoln</td>\n",
       "      <td>53043</td>\n",
       "      <td>Lincoln</td>\n",
       "      <td>47.3048</td>\n",
       "      <td>-117.9713</td>\n",
       "      <td>441</td>\n",
       "      <td>163</td>\n",
       "      <td>polygon</td>\n",
       "      <td>FALSE</td>\n",
       "      <td>TRUE</td>\n",
       "      <td>America/Los_Angeles</td>\n",
       "      <td>3</td>\n",
       "      <td>99032</td>\n",
       "      <td>1840021107</td>\n",
       "    </tr>\n",
       "    <tr>\n",
       "      <th>3</th>\n",
       "      <td>Gig Harbor</td>\n",
       "      <td>Gig Harbor</td>\n",
       "      <td>WA</td>\n",
       "      <td>Washington</td>\n",
       "      <td>53053</td>\n",
       "      <td>Pierce</td>\n",
       "      <td>53053</td>\n",
       "      <td>Pierce</td>\n",
       "      <td>47.3352</td>\n",
       "      <td>-122.5968</td>\n",
       "      <td>9507</td>\n",
       "      <td>622</td>\n",
       "      <td>polygon</td>\n",
       "      <td>FALSE</td>\n",
       "      <td>TRUE</td>\n",
       "      <td>America/Los_Angeles</td>\n",
       "      <td>3</td>\n",
       "      <td>98332 98335</td>\n",
       "      <td>1840019855</td>\n",
       "    </tr>\n",
       "    <tr>\n",
       "      <th>4</th>\n",
       "      <td>Lake Cassidy</td>\n",
       "      <td>Lake Cassidy</td>\n",
       "      <td>WA</td>\n",
       "      <td>Washington</td>\n",
       "      <td>53061</td>\n",
       "      <td>Snohomish</td>\n",
       "      <td>53061</td>\n",
       "      <td>Snohomish</td>\n",
       "      <td>48.0639</td>\n",
       "      <td>-122.0920</td>\n",
       "      <td>3591</td>\n",
       "      <td>131</td>\n",
       "      <td>polygon</td>\n",
       "      <td>FALSE</td>\n",
       "      <td>TRUE</td>\n",
       "      <td>America/Los_Angeles</td>\n",
       "      <td>3</td>\n",
       "      <td>98223 98258 98270</td>\n",
       "      <td>1840041959</td>\n",
       "    </tr>\n",
       "  </tbody>\n",
       "</table>\n",
       "</div>"
      ],
      "text/plain": [
       "           city    city_ascii state_id  state_name county_fips county_name  \\\n",
       "0   South Creek   South Creek       WA  Washington       53053      Pierce   \n",
       "1        Roslyn        Roslyn       WA  Washington       53037    Kittitas   \n",
       "2       Sprague       Sprague       WA  Washington       53043     Lincoln   \n",
       "3    Gig Harbor    Gig Harbor       WA  Washington       53053      Pierce   \n",
       "4  Lake Cassidy  Lake Cassidy       WA  Washington       53061   Snohomish   \n",
       "\n",
       "  county_fips_all county_name_all      lat        lng population density  \\\n",
       "0           53053          Pierce  46.9994  -122.3921       2500     125   \n",
       "1           53037        Kittitas  47.2507  -121.0989        947      84   \n",
       "2           53043         Lincoln  47.3048  -117.9713        441     163   \n",
       "3           53053          Pierce  47.3352  -122.5968       9507     622   \n",
       "4           53061       Snohomish  48.0639  -122.0920       3591     131   \n",
       "\n",
       "    source military incorporated             timezone ranking  \\\n",
       "0  polygon    FALSE         TRUE  America/Los_Angeles       3   \n",
       "1  polygon    FALSE         TRUE  America/Los_Angeles       3   \n",
       "2  polygon    FALSE         TRUE  America/Los_Angeles       3   \n",
       "3  polygon    FALSE         TRUE  America/Los_Angeles       3   \n",
       "4  polygon    FALSE         TRUE  America/Los_Angeles       3   \n",
       "\n",
       "                zips          id  \n",
       "0  98580 98387 98338  1840042075  \n",
       "1  98941 98068 98925  1840019842  \n",
       "2              99032  1840021107  \n",
       "3        98332 98335  1840019855  \n",
       "4  98223 98258 98270  1840041959  "
      ]
     },
     "execution_count": 5,
     "metadata": {},
     "output_type": "execute_result"
    }
   ],
   "source": [
    "df_us_cities = pd.read_sql(\"SELECT * FROM [us_cities]\", cnxn)\n",
    "df_us_cities.head()"
   ]
  },
  {
   "cell_type": "code",
   "execution_count": 6,
   "metadata": {},
   "outputs": [
    {
     "data": {
      "text/plain": [
       "Index(['city', 'city_ascii', 'state_id', 'state_name', 'county_fips',\n",
       "       'county_name', 'county_fips_all', 'county_name_all', 'lat', 'lng',\n",
       "       'population', 'density', 'source', 'military', 'incorporated',\n",
       "       'timezone', 'ranking', 'zips', 'id'],\n",
       "      dtype='object')"
      ]
     },
     "execution_count": 6,
     "metadata": {},
     "output_type": "execute_result"
    }
   ],
   "source": [
    "df_us_cities.columns"
   ]
  },
  {
   "cell_type": "code",
   "execution_count": null,
   "metadata": {},
   "outputs": [],
   "source": [
    "df_us_cities.info()"
   ]
  },
  {
   "cell_type": "code",
   "execution_count": null,
   "metadata": {},
   "outputs": [],
   "source": [
    "df_us_cities.isnull().sum().sum()"
   ]
  },
  {
   "cell_type": "code",
   "execution_count": null,
   "metadata": {},
   "outputs": [],
   "source": [
    "df_us_cities['zips'] = df_us_cities['zips'].fillna(0)\n",
    "df_us_cities.isnull().sum().sum()"
   ]
  },
  {
   "cell_type": "code",
   "execution_count": 20,
   "metadata": {},
   "outputs": [],
   "source": [
    "# state  = {\n",
    "#     \"Alabama\": \"AL\",\n",
    "#     \"Alaska\": \"AK\",\n",
    "#     \"Arizona\": \"AZ\",\n",
    "#     \"Arkansas\": \"AR\",\n",
    "#     \"California\": \"CA\",\n",
    "#     \"Colorado\": \"CO\",\n",
    "#     \"Connecticut\": \"CT\",\n",
    "#     \"Delaware\": \"DE\",\n",
    "#     \"Florida\": \"FL\",\n",
    "#     \"Georgia\": \"GA\",\n",
    "#     \"Hawaii\": \"HI\",\n",
    "#     \"Idaho\": \"ID\",\n",
    "#     \"Illinois\": \"IL\",\n",
    "#     \"Indiana\": \"IN\",\n",
    "#     \"Iowa\": \"IA\",\n",
    "#     \"Kansas\": \"KS\",\n",
    "#     \"Kentucky\": \"KY\",\n",
    "#     \"Louisiana\": \"LA\",\n",
    "#     \"Maine\": \"ME\",\n",
    "#     \"Maryland\": \"MD\",\n",
    "#     \"Massachusetts\": \"MA\",\n",
    "#     \"Michigan\": \"MI\",\n",
    "#     \"Minnesota\": \"MN\",\n",
    "#     \"Mississippi\": \"MS\",\n",
    "#     \"Missouri\": \"MO\",\n",
    "#     \"Montana\": \"MT\",\n",
    "#     \"Nebraska\": \"NE\",\n",
    "#     \"Nevada\": \"NV\",\n",
    "#     \"New Hampshire\": \"NH\",\n",
    "#     \"New Jersey\": \"NJ\",\n",
    "#     \"New Mexico\": \"NM\",\n",
    "#     \"New York\": \"NY\",\n",
    "#     \"North Carolina\": \"NC\",\n",
    "#     \"North Dakota\": \"ND\",\n",
    "#     \"Ohio\": \"OH\",\n",
    "#     \"Oklahoma\": \"OK\",\n",
    "#     \"Oregon\": \"OR\",\n",
    "#     \"Pennsylvania\": \"PA\",\n",
    "#     \"Rhode Island\": \"RI\",\n",
    "#     \"South Carolina\": \"SC\",\n",
    "#     \"South Dakota\": \"SD\",\n",
    "#     \"Tennessee\": \"TN\",\n",
    "#     \"Texas\": \"TX\",\n",
    "#     \"Utah\": \"UT\",\n",
    "#     \"Vermont\": \"VT\",\n",
    "#     \"Virginia\": \"VA\",\n",
    "#     \"Washington\": \"WA\",\n",
    "#     \"West Virginia\": \"WV\",\n",
    "#     \"Wisconsin\": \"WI\",\n",
    "#     \"Wyoming\": \"WY\",\n",
    "#     \"District of Columbia\": \"DC\",\n",
    "#     \"American Samoa\": \"AS\",\n",
    "#     \"Guam\": \"GU\",\n",
    "#     \"Northern Mariana Islands\": \"MP\",\n",
    "#     \"Puerto Rico\": \"PR\",\n",
    "#     \"United States Minor Outlying Islands\": \"UM\",\n",
    "#     \"U.S. Virgin Islands\": \"VI\",\n",
    "# }"
   ]
  },
  {
   "cell_type": "code",
   "execution_count": 21,
   "metadata": {},
   "outputs": [],
   "source": [
    "# df_us_cities['state_name'] = df_us_cities['state_name'].replace('state_name', state)\n",
    "# df_us_cities['state_name'].head()"
   ]
  },
  {
   "cell_type": "code",
   "execution_count": null,
   "metadata": {},
   "outputs": [],
   "source": [
    "df_us_cities = df_us_cities.drop(columns=[\"military\", \"timezone\", \"incorporated\", \"source\", \"ranking\", \"city_ascii\", \"county_name_all\", \"county_fips_all\"])"
   ]
  },
  {
   "cell_type": "code",
   "execution_count": 7,
   "metadata": {},
   "outputs": [
    {
     "data": {
      "text/html": [
       "<div>\n",
       "<style scoped>\n",
       "    .dataframe tbody tr th:only-of-type {\n",
       "        vertical-align: middle;\n",
       "    }\n",
       "\n",
       "    .dataframe tbody tr th {\n",
       "        vertical-align: top;\n",
       "    }\n",
       "\n",
       "    .dataframe thead th {\n",
       "        text-align: right;\n",
       "    }\n",
       "</style>\n",
       "<table border=\"1\" class=\"dataframe\">\n",
       "  <thead>\n",
       "    <tr style=\"text-align: right;\">\n",
       "      <th></th>\n",
       "      <th>city</th>\n",
       "      <th>city_ascii</th>\n",
       "      <th>state_id</th>\n",
       "      <th>state_name</th>\n",
       "      <th>county_fips</th>\n",
       "      <th>county_name</th>\n",
       "      <th>county_fips_all</th>\n",
       "      <th>county_name_all</th>\n",
       "      <th>lat</th>\n",
       "      <th>lng</th>\n",
       "      <th>population</th>\n",
       "      <th>density</th>\n",
       "      <th>source</th>\n",
       "      <th>military</th>\n",
       "      <th>incorporated</th>\n",
       "      <th>timezone</th>\n",
       "      <th>ranking</th>\n",
       "      <th>zips</th>\n",
       "      <th>id</th>\n",
       "    </tr>\n",
       "  </thead>\n",
       "  <tbody>\n",
       "    <tr>\n",
       "      <th>0</th>\n",
       "      <td>South Creek</td>\n",
       "      <td>South Creek</td>\n",
       "      <td>WA</td>\n",
       "      <td>Washington</td>\n",
       "      <td>53053</td>\n",
       "      <td>Pierce</td>\n",
       "      <td>53053</td>\n",
       "      <td>Pierce</td>\n",
       "      <td>46.9994</td>\n",
       "      <td>-122.3921</td>\n",
       "      <td>2500</td>\n",
       "      <td>125</td>\n",
       "      <td>polygon</td>\n",
       "      <td>FALSE</td>\n",
       "      <td>TRUE</td>\n",
       "      <td>America/Los_Angeles</td>\n",
       "      <td>3</td>\n",
       "      <td>98580 98387 98338</td>\n",
       "      <td>1840042075</td>\n",
       "    </tr>\n",
       "    <tr>\n",
       "      <th>1</th>\n",
       "      <td>Roslyn</td>\n",
       "      <td>Roslyn</td>\n",
       "      <td>WA</td>\n",
       "      <td>Washington</td>\n",
       "      <td>53037</td>\n",
       "      <td>Kittitas</td>\n",
       "      <td>53037</td>\n",
       "      <td>Kittitas</td>\n",
       "      <td>47.2507</td>\n",
       "      <td>-121.0989</td>\n",
       "      <td>947</td>\n",
       "      <td>84</td>\n",
       "      <td>polygon</td>\n",
       "      <td>FALSE</td>\n",
       "      <td>TRUE</td>\n",
       "      <td>America/Los_Angeles</td>\n",
       "      <td>3</td>\n",
       "      <td>98941 98068 98925</td>\n",
       "      <td>1840019842</td>\n",
       "    </tr>\n",
       "    <tr>\n",
       "      <th>2</th>\n",
       "      <td>Sprague</td>\n",
       "      <td>Sprague</td>\n",
       "      <td>WA</td>\n",
       "      <td>Washington</td>\n",
       "      <td>53043</td>\n",
       "      <td>Lincoln</td>\n",
       "      <td>53043</td>\n",
       "      <td>Lincoln</td>\n",
       "      <td>47.3048</td>\n",
       "      <td>-117.9713</td>\n",
       "      <td>441</td>\n",
       "      <td>163</td>\n",
       "      <td>polygon</td>\n",
       "      <td>FALSE</td>\n",
       "      <td>TRUE</td>\n",
       "      <td>America/Los_Angeles</td>\n",
       "      <td>3</td>\n",
       "      <td>99032</td>\n",
       "      <td>1840021107</td>\n",
       "    </tr>\n",
       "    <tr>\n",
       "      <th>3</th>\n",
       "      <td>Gig Harbor</td>\n",
       "      <td>Gig Harbor</td>\n",
       "      <td>WA</td>\n",
       "      <td>Washington</td>\n",
       "      <td>53053</td>\n",
       "      <td>Pierce</td>\n",
       "      <td>53053</td>\n",
       "      <td>Pierce</td>\n",
       "      <td>47.3352</td>\n",
       "      <td>-122.5968</td>\n",
       "      <td>9507</td>\n",
       "      <td>622</td>\n",
       "      <td>polygon</td>\n",
       "      <td>FALSE</td>\n",
       "      <td>TRUE</td>\n",
       "      <td>America/Los_Angeles</td>\n",
       "      <td>3</td>\n",
       "      <td>98332 98335</td>\n",
       "      <td>1840019855</td>\n",
       "    </tr>\n",
       "    <tr>\n",
       "      <th>4</th>\n",
       "      <td>Lake Cassidy</td>\n",
       "      <td>Lake Cassidy</td>\n",
       "      <td>WA</td>\n",
       "      <td>Washington</td>\n",
       "      <td>53061</td>\n",
       "      <td>Snohomish</td>\n",
       "      <td>53061</td>\n",
       "      <td>Snohomish</td>\n",
       "      <td>48.0639</td>\n",
       "      <td>-122.0920</td>\n",
       "      <td>3591</td>\n",
       "      <td>131</td>\n",
       "      <td>polygon</td>\n",
       "      <td>FALSE</td>\n",
       "      <td>TRUE</td>\n",
       "      <td>America/Los_Angeles</td>\n",
       "      <td>3</td>\n",
       "      <td>98223 98258 98270</td>\n",
       "      <td>1840041959</td>\n",
       "    </tr>\n",
       "  </tbody>\n",
       "</table>\n",
       "</div>"
      ],
      "text/plain": [
       "           city    city_ascii state_id  state_name county_fips county_name  \\\n",
       "0   South Creek   South Creek       WA  Washington       53053      Pierce   \n",
       "1        Roslyn        Roslyn       WA  Washington       53037    Kittitas   \n",
       "2       Sprague       Sprague       WA  Washington       53043     Lincoln   \n",
       "3    Gig Harbor    Gig Harbor       WA  Washington       53053      Pierce   \n",
       "4  Lake Cassidy  Lake Cassidy       WA  Washington       53061   Snohomish   \n",
       "\n",
       "  county_fips_all county_name_all      lat        lng population density  \\\n",
       "0           53053          Pierce  46.9994  -122.3921       2500     125   \n",
       "1           53037        Kittitas  47.2507  -121.0989        947      84   \n",
       "2           53043         Lincoln  47.3048  -117.9713        441     163   \n",
       "3           53053          Pierce  47.3352  -122.5968       9507     622   \n",
       "4           53061       Snohomish  48.0639  -122.0920       3591     131   \n",
       "\n",
       "    source military incorporated             timezone ranking  \\\n",
       "0  polygon    FALSE         TRUE  America/Los_Angeles       3   \n",
       "1  polygon    FALSE         TRUE  America/Los_Angeles       3   \n",
       "2  polygon    FALSE         TRUE  America/Los_Angeles       3   \n",
       "3  polygon    FALSE         TRUE  America/Los_Angeles       3   \n",
       "4  polygon    FALSE         TRUE  America/Los_Angeles       3   \n",
       "\n",
       "                zips          id  \n",
       "0  98580 98387 98338  1840042075  \n",
       "1  98941 98068 98925  1840019842  \n",
       "2              99032  1840021107  \n",
       "3        98332 98335  1840019855  \n",
       "4  98223 98258 98270  1840041959  "
      ]
     },
     "execution_count": 7,
     "metadata": {},
     "output_type": "execute_result"
    }
   ],
   "source": [
    "df_us_cities.head()"
   ]
  },
  {
   "cell_type": "markdown",
   "metadata": {},
   "source": [
    "<center><h3><p style=\"color:#139C77\";> Fichier \"Etnicity\"</p></h3></center>"
   ]
  },
  {
   "cell_type": "code",
   "execution_count": 12,
   "metadata": {},
   "outputs": [
    {
     "data": {
      "text/html": [
       "<div>\n",
       "<style scoped>\n",
       "    .dataframe tbody tr th:only-of-type {\n",
       "        vertical-align: middle;\n",
       "    }\n",
       "\n",
       "    .dataframe tbody tr th {\n",
       "        vertical-align: top;\n",
       "    }\n",
       "\n",
       "    .dataframe thead th {\n",
       "        text-align: right;\n",
       "    }\n",
       "</style>\n",
       "<table border=\"1\" class=\"dataframe\">\n",
       "  <thead>\n",
       "    <tr style=\"text-align: right;\">\n",
       "      <th></th>\n",
       "      <th>State</th>\n",
       "      <th>Total population</th>\n",
       "      <th>White</th>\n",
       "      <th>Black</th>\n",
       "      <th>Hispanic</th>\n",
       "      <th>Asian</th>\n",
       "      <th>American Indian</th>\n",
       "      <th>id</th>\n",
       "    </tr>\n",
       "  </thead>\n",
       "  <tbody>\n",
       "    <tr>\n",
       "      <th>0</th>\n",
       "      <td>Alabama</td>\n",
       "      <td>4874747.0</td>\n",
       "      <td>3191450.0</td>\n",
       "      <td>1302295.0</td>\n",
       "      <td>201970.0</td>\n",
       "      <td>65494.0</td>\n",
       "      <td>22209.0</td>\n",
       "      <td>None</td>\n",
       "    </tr>\n",
       "    <tr>\n",
       "      <th>1</th>\n",
       "      <td>Alaska</td>\n",
       "      <td>739795.0</td>\n",
       "      <td>448081.0</td>\n",
       "      <td>21192.0</td>\n",
       "      <td>51712.0</td>\n",
       "      <td>48569.0</td>\n",
       "      <td>105146.0</td>\n",
       "      <td>None</td>\n",
       "    </tr>\n",
       "    <tr>\n",
       "      <th>2</th>\n",
       "      <td>Arizona</td>\n",
       "      <td>7016270.0</td>\n",
       "      <td>3836639.0</td>\n",
       "      <td>290379.0</td>\n",
       "      <td>2202173.0</td>\n",
       "      <td>225810.0</td>\n",
       "      <td>274496.0</td>\n",
       "      <td>None</td>\n",
       "    </tr>\n",
       "    <tr>\n",
       "      <th>3</th>\n",
       "      <td>Arkansas</td>\n",
       "      <td>3004279.0</td>\n",
       "      <td>2173307.0</td>\n",
       "      <td>455500.0</td>\n",
       "      <td>223764.0</td>\n",
       "      <td>46583.0</td>\n",
       "      <td>16901.0</td>\n",
       "      <td>None</td>\n",
       "    </tr>\n",
       "    <tr>\n",
       "      <th>4</th>\n",
       "      <td>California</td>\n",
       "      <td>39536653.0</td>\n",
       "      <td>14616636.0</td>\n",
       "      <td>2164239.0</td>\n",
       "      <td>15477306.0</td>\n",
       "      <td>5679986.0</td>\n",
       "      <td>147880.0</td>\n",
       "      <td>None</td>\n",
       "    </tr>\n",
       "  </tbody>\n",
       "</table>\n",
       "</div>"
      ],
      "text/plain": [
       "        State  Total population       White      Black    Hispanic      Asian  \\\n",
       "0     Alabama         4874747.0   3191450.0  1302295.0    201970.0    65494.0   \n",
       "1      Alaska          739795.0    448081.0    21192.0     51712.0    48569.0   \n",
       "2     Arizona         7016270.0   3836639.0   290379.0   2202173.0   225810.0   \n",
       "3    Arkansas         3004279.0   2173307.0   455500.0    223764.0    46583.0   \n",
       "4  California        39536653.0  14616636.0  2164239.0  15477306.0  5679986.0   \n",
       "\n",
       "   American Indian    id  \n",
       "0          22209.0  None  \n",
       "1         105146.0  None  \n",
       "2         274496.0  None  \n",
       "3          16901.0  None  \n",
       "4         147880.0  None  "
      ]
     },
     "execution_count": 12,
     "metadata": {},
     "output_type": "execute_result"
    }
   ],
   "source": [
    "df_Etnicity = pd.read_sql(\"SELECT * FROM [Etnicity]\", cnxn)\n",
    "df_Etnicity.head()"
   ]
  },
  {
   "cell_type": "code",
   "execution_count": 13,
   "metadata": {},
   "outputs": [
    {
     "name": "stdout",
     "output_type": "stream",
     "text": [
      "<class 'pandas.core.frame.DataFrame'>\n",
      "RangeIndex: 51 entries, 0 to 50\n",
      "Data columns (total 8 columns):\n",
      " #   Column            Non-Null Count  Dtype  \n",
      "---  ------            --------------  -----  \n",
      " 0   State             51 non-null     object \n",
      " 1   Total population  51 non-null     float64\n",
      " 2   White             51 non-null     float64\n",
      " 3   Black             51 non-null     float64\n",
      " 4   Hispanic          51 non-null     float64\n",
      " 5   Asian             51 non-null     float64\n",
      " 6   American Indian   51 non-null     float64\n",
      " 7   id                0 non-null      object \n",
      "dtypes: float64(6), object(2)\n",
      "memory usage: 3.3+ KB\n"
     ]
    }
   ],
   "source": [
    "df_Etnicity.info()"
   ]
  },
  {
   "cell_type": "code",
   "execution_count": 14,
   "metadata": {},
   "outputs": [
    {
     "data": {
      "text/plain": [
       "51"
      ]
     },
     "execution_count": 14,
     "metadata": {},
     "output_type": "execute_result"
    }
   ],
   "source": [
    "df_Etnicity.isnull().sum().sum()"
   ]
  },
  {
   "cell_type": "markdown",
   "metadata": {},
   "source": [
    "Lors de la construction des tables sur SQL pour transférer la base de données dans le data warehouse, j'auto-incrémenterais la colonne id"
   ]
  },
  {
   "cell_type": "code",
   "execution_count": null,
   "metadata": {},
   "outputs": [],
   "source": [
    "\n",
    "from secret import cndw\n",
    "\n",
    "df_fatal.to_sql(\"df_fatal\", cndw , schema=None, if_exists='replace', index=True, index_label= None, chunksize = None , dtype = None , method = None)\n",
    "df_us_cities.to_sql(\"df_us_cities\", cndw , schema=None, if_exists='replace', index=True, index_label= None, chunksize = None , dtype = None , method = None)\n",
    "df_Etnicity.to_sql(\"df_Etnicity\", cndw , schema=None, if_exists='replace', index=True, index_label= None, chunksize = None , dtype = None , method = None)"
   ]
  }
 ],
 "metadata": {
  "kernelspec": {
   "display_name": "Python 3.9.7 ('base')",
   "language": "python",
   "name": "python3"
  },
  "language_info": {
   "codemirror_mode": {
    "name": "ipython",
    "version": 3
   },
   "file_extension": ".py",
   "mimetype": "text/x-python",
   "name": "python",
   "nbconvert_exporter": "python",
   "pygments_lexer": "ipython3",
   "version": "3.9.7"
  },
  "orig_nbformat": 4,
  "vscode": {
   "interpreter": {
    "hash": "35eb59dc1175a6e36ac6f85529fd57a1bdfb070562af1bfce2d8b2d0113a1f3d"
   }
  }
 },
 "nbformat": 4,
 "nbformat_minor": 2
}
